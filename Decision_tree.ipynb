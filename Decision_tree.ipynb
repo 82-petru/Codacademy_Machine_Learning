{
 "cells": [
  {
   "cell_type": "code",
   "execution_count": 27,
   "metadata": {},
   "outputs": [
    {
     "data": {
      "text/plain": [
       "['4', '2', 'more']"
      ]
     },
     "execution_count": 27,
     "metadata": {},
     "output_type": "execute_result"
    }
   ],
   "source": [
    "cars = [['med', 'low', '3', '4', 'med', 'med'], ['med', 'vhigh', '4', 'more', 'small', 'high'],\n",
    "        ['high', 'med', '3', '2', 'med', 'low'], ['med', 'low', '4', '4', 'med', 'low'], \n",
    "        ['med', 'low', '5more', '2', 'big', 'med'], ['med', 'med', '2', 'more', 'big', 'high'], \n",
    "        ['med', 'med', '2', 'more', 'med', 'med'], ['vhigh', 'vhigh', '2', '2', 'med', 'low'],\n",
    "        ['high', 'med', '4', '2', 'big', 'low'], ['low', 'low', '2', '4', 'big', 'med']]\n",
    "\n",
    "car_labels = ['acc', 'acc', 'unacc', 'unacc', 'unacc', 'vgood', 'acc', 'unacc', 'unacc', 'good']\n",
    "\n",
    "lista = []\n",
    "for data in range(len(cars)):\n",
    "    lista.append(cars[data][3])\n",
    "x = list(set(lista))\n",
    "x"
   ]
  },
  {
   "cell_type": "code",
   "execution_count": 28,
   "metadata": {},
   "outputs": [],
   "source": [
    "#dataset reprezinta lista cu features, labels reprezinta lista cum sunt catalogate masinele, column este spliting features in subsets\n",
    "#acest block de cod este pentru a crea top tree feature dupa care se face split-ul \n",
    "#set() interesanta aceasta functie selecteaza toate elementele unice\n",
    "def split(dataset, labels, column):\n",
    "    data_subsets = []\n",
    "    label_subsets = []\n",
    "    counts = list(set([data[column] for data in dataset]))# selectarea coloanei din tabel(feature) dupa care se face split-ul\n",
    "    for k in counts:\n",
    "        new_data_subset = []\n",
    "        new_label_subset = []\n",
    "        for i in range(len(dataset)):\n",
    "            if dataset[i][column] == k:\n",
    "                new_data_subset.append(dataset[i])#prin aceasta sintaxa creeam subset in functie de atributele din feature\n",
    "                new_label_subset.append(labels[i])#la fel si aici in functie de feature attributes creeam subset pentru label\n",
    "        data_subsets.append(new_data_subset)#aici adaugam toate subseturile intr-o singura lista \n",
    "        label_subsets.append(new_label_subset)\n",
    "    return data_subsets, label_subsets\n",
    "#print(split(cars, car_labels, 3))"
   ]
  },
  {
   "cell_type": "code",
   "execution_count": 29,
   "metadata": {},
   "outputs": [],
   "source": [
    "from collections import Counter\n",
    "import random\n",
    "import numpy as np"
   ]
  },
  {
   "cell_type": "code",
   "execution_count": 30,
   "metadata": {},
   "outputs": [],
   "source": [
    "#calculate gini_impurity 1 - squared percentage of each label in the set \n",
    "def gini(dataset):\n",
    "    impurity = 1\n",
    "    label_count = Counter(dataset)\n",
    "    for label in label_count:\n",
    "        probability = label_count[label] / len(dataset)\n",
    "        impurity -= probability**2\n",
    "    return impurity\n",
    "#print(gini(car_labels))"
   ]
  },
  {
   "cell_type": "code",
   "execution_count": 31,
   "metadata": {},
   "outputs": [],
   "source": [
    "#aceasta metoda folosita pentru a identifica care feature este potrivit pentru split, aceasta metoda masoara diferenta dintre \n",
    "# gini impurity of the data before and after the split, se face pentru fiecare feauture\n",
    "# impurity este 0 atunci cat toate elementele dintr-un set sunt din acelasi feature indiferent de numarul lor\n",
    "# weighted information reflecta faptu ca marimea setului conteaza, example if set before split is 10 and subset 2 then 2/10 * impurity\n",
    "#the importance of small wets is lowered \n",
    "def info_gain(starting_labels, split_labels):\n",
    "    info_gains = gini(starting_labels) \n",
    "    for subset in split_labels:\n",
    "        weight  = len(subset)/len(starting_labels) * gini(subset)\n",
    "        info_gains -= weight\n",
    "    return info_gains"
   ]
  },
  {
   "cell_type": "code",
   "execution_count": 32,
   "metadata": {},
   "outputs": [
    {
     "name": "stdout",
     "output_type": "stream",
     "text": [
      "[[['med', 'low', '3', '4', 'med', 'med'], ['med', 'low', '4', '4', 'med', 'low'], ['low', 'low', '2', '4', 'big', 'med']], [['high', 'med', '3', '2', 'med', 'low'], ['med', 'low', '5more', '2', 'big', 'med'], ['vhigh', 'vhigh', '2', '2', 'med', 'low'], ['high', 'med', '4', '2', 'big', 'low']], [['med', 'vhigh', '4', 'more', 'small', 'high'], ['med', 'med', '2', 'more', 'big', 'high'], ['med', 'med', '2', 'more', 'med', 'med']]] [['acc', 'unacc', 'good'], ['unacc', 'unacc', 'unacc', 'unacc'], ['acc', 'vgood', 'acc']]\n",
      "0.30666666666666675\n"
     ]
    }
   ],
   "source": [
    "split_data, split_labels = split(cars, car_labels, 3)\n",
    "print(split_data, split_labels)\n",
    "print(info_gain(car_labels, split_labels))"
   ]
  },
  {
   "cell_type": "code",
   "execution_count": 33,
   "metadata": {},
   "outputs": [
    {
     "name": "stdout",
     "output_type": "stream",
     "text": [
      "0.2733333333333334\n",
      "0.04000000000000001\n",
      "0.10666666666666663\n",
      "0.30666666666666675\n",
      "0.15000000000000002\n",
      "0.29000000000000004\n"
     ]
    }
   ],
   "source": [
    "#prin acest block de cod se cauta cel mai adecvat feature dupa care sa facem split-ul range(0,6) inseamna fiecare coloana din tabel\n",
    "#blocul acesta are legatura stransa cu metoda split()\n",
    "for feature in range(0, 6):\n",
    "    split_data, split_labels = split(cars, car_labels, feature)\n",
    "    print(info_gain(car_labels, split_labels))"
   ]
  },
  {
   "cell_type": "code",
   "execution_count": 34,
   "metadata": {},
   "outputs": [
    {
     "name": "stdout",
     "output_type": "stream",
     "text": [
      "3 0.30666666666666675\n"
     ]
    }
   ],
   "source": [
    "#this function takes a set of datapoints and set of labels and returns the index of the feature that cause best split and info gain\n",
    "def find_best_split(dataset, labels):\n",
    "    best_feature = 0\n",
    "    best_gain = 0\n",
    "    for feature in range(len(dataset[0])):\n",
    "        data_subsets, labels_subsets = split(dataset, labels, feature)\n",
    "        gain = info_gain(labels, labels_subsets)\n",
    "        if gain > best_gain:\n",
    "            best_gain, best_feature = gain, feature\n",
    "    return best_feature, best_gain\n",
    "best_feature, best_gain = find_best_split(cars, car_labels)\n",
    "print(best_feature, best_gain)"
   ]
  },
  {
   "cell_type": "code",
   "execution_count": 35,
   "metadata": {},
   "outputs": [
    {
     "name": "stdout",
     "output_type": "stream",
     "text": [
      "[[Counter({'acc': 1}), Counter({'unacc': 1}), Counter({'good': 1})], Counter({'unacc': 4}), [Counter({'acc': 1}), Counter({'acc': 1}), Counter({'vgood': 1})]]\n"
     ]
    }
   ],
   "source": [
    "#next function take as parameters dataset and labels \n",
    "def build_tree(data, labels):\n",
    "      best_feature, best_gain = find_best_split(data, labels)\n",
    "      if best_gain == 0:\n",
    "        return Counter(labels)\n",
    "      data_subsets, label_subsets = split(data, labels, best_feature)\n",
    "      branches = []\n",
    "      for i in range(len(data_subsets)):\n",
    "            branch = build_tree(data_subsets[i], label_subsets[i])\n",
    "            branches.append(branch)\n",
    "      return branches\n",
    "tree = build_tree(cars, car_labels)\n",
    "print(tree)"
   ]
  },
  {
   "cell_type": "code",
   "execution_count": 36,
   "metadata": {},
   "outputs": [
    {
     "name": "stdout",
     "output_type": "stream",
     "text": [
      "0 5\n"
     ]
    },
    {
     "data": {
      "text/plain": [
       "True"
      ]
     },
     "execution_count": 36,
     "metadata": {},
     "output_type": "execute_result"
    }
   ],
   "source": [
    "#function to Check whether variable or object is of dict type, list type, set type, tuple type, in this case\n",
    "count = Counter(car_labels)\n",
    "big = max(count.values())\n",
    "print(count[big], big)\n",
    "isinstance(count, dict)"
   ]
  },
  {
   "cell_type": "code",
   "execution_count": 37,
   "metadata": {
    "scrolled": false
   },
   "outputs": [],
   "source": [
    "indices = []\n",
    "for i in range(0, 999):\n",
    "    indices.append(random.randint(0, 999))\n",
    "#print(indices)"
   ]
  },
  {
   "cell_type": "code",
   "execution_count": 38,
   "metadata": {},
   "outputs": [],
   "source": [
    "indices = [random.randint(0, 999) for i in range(1000)]"
   ]
  },
  {
   "cell_type": "code",
   "execution_count": 39,
   "metadata": {},
   "outputs": [
    {
     "data": {
      "text/plain": [
       "2.449489742783178"
      ]
     },
     "execution_count": 39,
     "metadata": {},
     "output_type": "execute_result"
    }
   ],
   "source": [
    "6**0.5\n"
   ]
  },
  {
   "cell_type": "code",
   "execution_count": 40,
   "metadata": {},
   "outputs": [
    {
     "name": "stdout",
     "output_type": "stream",
     "text": [
      "<class 'list'>\n"
     ]
    }
   ],
   "source": [
    "lista = range(100)\n",
    "print(type(random.choices(lista, k=4)))"
   ]
  },
  {
   "cell_type": "code",
   "execution_count": 57,
   "metadata": {},
   "outputs": [
    {
     "name": "stdout",
     "output_type": "stream",
     "text": [
      "4\n"
     ]
    },
    {
     "data": {
      "text/plain": [
       "array([4, 4])"
      ]
     },
     "execution_count": 57,
     "metadata": {},
     "output_type": "execute_result"
    }
   ],
   "source": [
    "lista1 = [2, 3, 4, 5]\n",
    "weight = [0.1, 0.2, 0.5, 0.2]\n",
    "print(len(lista1))\n",
    "np.random.choice(lista1, size = 2, replace = False, p = weight )"
   ]
  },
  {
   "cell_type": "code",
   "execution_count": 65,
   "metadata": {},
   "outputs": [
    {
     "name": "stdout",
     "output_type": "stream",
     "text": [
      "python\n"
     ]
    }
   ],
   "source": [
    "max([], default = 0)\n",
    "print(max((\"python\", \"lua\", \"ruby\"), key = len))"
   ]
  },
  {
   "cell_type": "code",
   "execution_count": 90,
   "metadata": {},
   "outputs": [
    {
     "data": {
      "text/plain": [
       "('principale', 'petru')"
      ]
     },
     "execution_count": 90,
     "metadata": {},
     "output_type": "execute_result"
    }
   ],
   "source": [
    "import operator #key-functions\n",
    "weights = [(\"caruso\", \"aba\"), (\"principale\", \"petru\")]\n",
    "max(weights, key = operator.itemgetter(1))"
   ]
  },
  {
   "cell_type": "code",
   "execution_count": null,
   "metadata": {},
   "outputs": [],
   "source": []
  }
 ],
 "metadata": {
  "kernelspec": {
   "display_name": "Python 3",
   "language": "python",
   "name": "python3"
  },
  "language_info": {
   "codemirror_mode": {
    "name": "ipython",
    "version": 3
   },
   "file_extension": ".py",
   "mimetype": "text/x-python",
   "name": "python",
   "nbconvert_exporter": "python",
   "pygments_lexer": "ipython3",
   "version": "3.7.4"
  }
 },
 "nbformat": 4,
 "nbformat_minor": 2
}
