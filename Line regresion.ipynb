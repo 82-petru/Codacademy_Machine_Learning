{
 "cells": [
  {
   "cell_type": "code",
   "execution_count": 22,
   "metadata": {
    "scrolled": true
   },
   "outputs": [
    {
     "name": "stdout",
     "output_type": "stream",
     "text": [
      "6.5 117.75\n"
     ]
    }
   ],
   "source": [
    "import statistics as stats\n",
    "import matplotlib.pyplot as plt \n",
    "x = [1, 2, 3, 4, 5, 6, 7, 8, 9, 10, 11, 12]\n",
    "y = [52, 74, 79, 95, 115, 110, 129, 126, 147, 146, 156, 184]\n",
    "x_mean = stats.mean(x)\n",
    "y_mean = stats.mean(y)\n",
    "print(x_mean, y_mean)"
   ]
  },
  {
   "cell_type": "code",
   "execution_count": 23,
   "metadata": {
    "scrolled": true
   },
   "outputs": [
    {
     "name": "stdout",
     "output_type": "stream",
     "text": [
      "[-5.5, -4.5, -3.5, -2.5, -1.5, -0.5, 0.5, 1.5, 2.5, 3.5, 4.5, 5.5]\n"
     ]
    }
   ],
   "source": [
    "x_variance = [x[i] - x_mean for i in range(len(x))]\n",
    "print(x_variance)"
   ]
  },
  {
   "cell_type": "code",
   "execution_count": 24,
   "metadata": {},
   "outputs": [
    {
     "name": "stdout",
     "output_type": "stream",
     "text": [
      "[-65.75, -43.75, -38.75, -22.75, -2.75, -7.75, 11.25, 8.25, 29.25, 28.25, 38.25, 66.25]\n",
      "0.0\n"
     ]
    }
   ],
   "source": [
    "y_variance = [y[i] - y_mean for i in range(len(y))]# calculate the variance \n",
    "print(y_variance)\n",
    "print(sum(y_variance))"
   ]
  },
  {
   "cell_type": "code",
   "execution_count": 25,
   "metadata": {},
   "outputs": [
    {
     "name": "stdout",
     "output_type": "stream",
     "text": [
      "[30.25, 20.25, 12.25, 6.25, 2.25, 0.25, 0.25, 2.25, 6.25, 12.25, 20.25, 30.25]\n"
     ]
    }
   ],
   "source": [
    "x_variance_squared =  [(x[i] - x_mean) ** 2 for i in range(len(x))]\n",
    "print(x_variance_squared)"
   ]
  },
  {
   "cell_type": "code",
   "execution_count": 26,
   "metadata": {},
   "outputs": [
    {
     "name": "stdout",
     "output_type": "stream",
     "text": [
      "1485.5\n"
     ]
    }
   ],
   "source": [
    "xy_variance = 0\n",
    "for i in range(len(x_variance)):\n",
    "        xy_variance += (x_variance[i] * y_variance[i])\n",
    "print(xy_variance)"
   ]
  },
  {
   "cell_type": "code",
   "execution_count": 27,
   "metadata": {},
   "outputs": [
    {
     "name": "stdout",
     "output_type": "stream",
     "text": [
      "10.388111888111888\n"
     ]
    }
   ],
   "source": [
    "    slope = xy_variance / sum(x_variance_squared)#calculate m the slope \n",
    "    print(slope)"
   ]
  },
  {
   "cell_type": "code",
   "execution_count": 28,
   "metadata": {
    "scrolled": true
   },
   "outputs": [
    {
     "name": "stdout",
     "output_type": "stream",
     "text": [
      "50.22727272727272\n"
     ]
    }
   ],
   "source": [
    "def intercept(slope_data): #intercept b calculation\n",
    "    intercept = y_mean - (slope_data * x_mean)\n",
    "    return intercept\n",
    "y_intercept = intercept(slope)\n",
    "print(y_intercept)"
   ]
  },
  {
   "cell_type": "code",
   "execution_count": 29,
   "metadata": {
    "scrolled": true
   },
   "outputs": [
    {
     "name": "stdout",
     "output_type": "stream",
     "text": [
      "[60.615384615384606, 71.00349650349649, 81.39160839160839, 91.77972027972027, 102.16783216783216, 112.55594405594405, 122.94405594405593, 133.33216783216784, 143.72027972027973, 154.1083916083916, 164.4965034965035, 174.8846153846154]\n"
     ]
    }
   ],
   "source": [
    "def get_estimation_y(x_data):#i have calculate the distance between line and Y axis(estimated value)\n",
    "    y_estimation = []\n",
    "    for i in x_data:\n",
    "        y_calculus = slope * i + y_intercept\n",
    "        y_estimation.append(y_calculus)\n",
    "    return y_estimation\n",
    "estimated_value = get_estimation_y(x)\n",
    "print(estimated_value)"
   ]
  },
  {
   "cell_type": "code",
   "execution_count": 30,
   "metadata": {
    "scrolled": false
   },
   "outputs": [],
   "source": [
    "#predicted_value = [slope * i + y_intercept for i in x]\n"
   ]
  },
  {
   "cell_type": "code",
   "execution_count": 31,
   "metadata": {},
   "outputs": [],
   "source": [
    "def calculate_loss(y_actual, y_estimate):\n",
    "    loss = 0\n",
    "    for i in range(len(y_estimate)):\n",
    "        loss_calculation = (y_actual[i] - y_estimate[i])**2\n",
    "        loss += loss_calculation\n",
    "        sqrt = loss**0.5\n",
    "    return sqrt\n",
    "#print(calculate_loss(y, predicted_value))\n",
    "        "
   ]
  },
  {
   "cell_type": "code",
   "execution_count": 32,
   "metadata": {},
   "outputs": [],
   "source": [
    "#calculate b and m gradient to get the lowest loss for both values m and b \n",
    "#find the best m and best b \n",
    "b = 0 \n",
    "m = 0"
   ]
  },
  {
   "cell_type": "code",
   "execution_count": 33,
   "metadata": {
    "scrolled": true
   },
   "outputs": [
    {
     "name": "stdout",
     "output_type": "stream",
     "text": [
      "-235.5\n"
     ]
    }
   ],
   "source": [
    "#calculate the intercept \"b\" using the gradient descent formula\n",
    "def get_intercept(m, b, y_observed, x_data):\n",
    "    gradient_intercept = 0\n",
    "    N = len(x_data)\n",
    "    for i in range(len(y_observed)):\n",
    "        calculus_intercept = -(2/N) * (y_observed[i] - (b + m * x_data[i]))\n",
    "        gradient_intercept += calculus_intercept\n",
    "    return gradient_intercept\n",
    "print(get_intercept(m, b, y, x))"
   ]
  },
  {
   "cell_type": "code",
   "execution_count": 34,
   "metadata": {
    "scrolled": true
   },
   "outputs": [
    {
     "name": "stdout",
     "output_type": "stream",
     "text": [
      "-1778.3333333333333\n"
     ]
    }
   ],
   "source": [
    "#calculate the slope \"m\" using the gradient descent formula\n",
    "def get_slope(m, b, y_observed, x_data):\n",
    "    gradient_slope = 0\n",
    "    N = len(x_data)\n",
    "    for i in range(len(y_observed)):\n",
    "        calculus_slope = x_data[i] *(y_observed[i] - (b + m * x_data[i]))\n",
    "        gradient_slope += - (2/N) * calculus_slope\n",
    "    return gradient_slope\n",
    "print(get_slope(m, b, y, x))"
   ]
  },
  {
   "cell_type": "code",
   "execution_count": 35,
   "metadata": {},
   "outputs": [
    {
     "name": "stdout",
     "output_type": "stream",
     "text": [
      "2.355 17.78333333333333\n"
     ]
    }
   ],
   "source": [
    "#calculate the step size by multiplying the learning rate with gradient slope and gradient intercept\n",
    "def step_gradient(m_current, b_current, y_observed, x_data, learning_rate):\n",
    "    gradient_b = get_intercept(m_current, b_current, y_observed, x_data)\n",
    "    gradient_m = get_slope(m_current, b_current, y_observed, x_data)\n",
    "    new_slope = m_current - (learning_rate * gradient_m)\n",
    "    new_intercept = b_current - (learning_rate * gradient_b)\n",
    "    return [new_intercept, new_slope]\n",
    "b, m = step_gradient(m, b, y, x, 0.01)\n",
    "print(b, m)"
   ]
  },
  {
   "cell_type": "code",
   "execution_count": 36,
   "metadata": {},
   "outputs": [
    {
     "name": "stdout",
     "output_type": "stream",
     "text": [
      "15.957250934367627 4.001422178921807\n"
     ]
    }
   ],
   "source": [
    "def gradient_descent(y, x, learning_rate, iterations):\n",
    "    m = 0\n",
    "    b = 0 \n",
    "    for i in range(iterations):\n",
    "        step_gradient(m, b, y, x, learning_rate)\n",
    "        gradient_b = get_intercept(m, b, y, x)\n",
    "        gradient_m = get_slope(m, b, y, x)\n",
    "        m = m - (learning_rate * gradient_m)\n",
    "        b = b - (learning_rate * gradient_b)\n",
    "    return m, b\n",
    "m, b = gradient_descent(y, x, 0.0001, 1000)\n",
    "print(m, b)"
   ]
  },
  {
   "cell_type": "code",
   "execution_count": 37,
   "metadata": {},
   "outputs": [
    {
     "name": "stdout",
     "output_type": "stream",
     "text": [
      "[19.958673113289436, 35.91592404765706, 51.873174982024686, 67.83042591639231, 83.78767685075994, 99.74492778512757, 115.70217871949521, 131.65942965386282, 147.61668058823045, 163.5739315225981, 179.53118245696572, 195.48843339133333]\n"
     ]
    }
   ],
   "source": [
    "predicted_value = [m * i + b for i in x]\n",
    "print(predicted_value)"
   ]
  },
  {
   "cell_type": "code",
   "execution_count": 38,
   "metadata": {
    "scrolled": true
   },
   "outputs": [
    {
     "data": {
      "image/png": "[encoded data removed]",
      "text/plain": [
       "<Figure size 432x288 with 1 Axes>"
      ]
     },
     "metadata": {
      "needs_background": "light"
     },
     "output_type": "display_data"
    }
   ],
   "source": [
    "plt.plot(x, y, \"o\")\n",
    "plt.plot(x, predicted_value)\n",
    "plt.show()"
   ]
  },
  {
   "cell_type": "code",
   "execution_count": null,
   "metadata": {},
   "outputs": [],
   "source": []
  }
 ],
 "metadata": {
  "kernelspec": {
   "display_name": "Python 3",
   "language": "python",
   "name": "python3"
  },
  "language_info": {
   "codemirror_mode": {
    "name": "ipython",
    "version": 3
   },
   "file_extension": ".py",
   "mimetype": "text/x-python",
   "name": "python",
   "nbconvert_exporter": "python",
   "pygments_lexer": "ipython3",
   "version": "3.7.4"
  }
 },
 "nbformat": 4,
 "nbformat_minor": 2
}
