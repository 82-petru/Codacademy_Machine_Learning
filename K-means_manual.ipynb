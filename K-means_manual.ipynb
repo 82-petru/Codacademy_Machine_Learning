{
 "cells": [
  {
   "cell_type": "code",
   "execution_count": 176,
   "metadata": {},
   "outputs": [],
   "source": [
    "import matplotlib.pyplot as plt\n",
    "import numpy as np\n",
    "from sklearn import datasets\n",
    "from copy import deepcopy"
   ]
  },
  {
   "cell_type": "code",
   "execution_count": 177,
   "metadata": {},
   "outputs": [
    {
     "data": {
      "text/plain": [
       "array([[[0., 0.],\n",
       "        [0., 0.],\n",
       "        [0., 0.]],\n",
       "\n",
       "       [[0., 0.],\n",
       "        [0., 0.],\n",
       "        [0., 0.]]])"
      ]
     },
     "execution_count": 177,
     "metadata": {},
     "output_type": "execute_result"
    }
   ],
   "source": [
    "#NumPy zeros function enables you to create NumPy arrays that contain only zeros.\n",
    "#dtype. dtype('int64') The type int64 tells us that Python is storing each value within this column as a 64 bit integer\n",
    "np.zeros(shape = (2, 3, 2), dtype = float)#shape is a positional argument and can be skiped"
   ]
  },
  {
   "cell_type": "code",
   "execution_count": 178,
   "metadata": {},
   "outputs": [],
   "source": [
    "\n",
    "iris = datasets.load_iris()"
   ]
  },
  {
   "cell_type": "code",
   "execution_count": 179,
   "metadata": {},
   "outputs": [],
   "source": [
    "samples = iris.data"
   ]
  },
  {
   "cell_type": "code",
   "execution_count": 180,
   "metadata": {},
   "outputs": [],
   "source": [
    "#x = length and y width of sepal \n",
    "x = samples[:, 0]\n",
    "y = samples[:, 1]"
   ]
  },
  {
   "cell_type": "code",
   "execution_count": 181,
   "metadata": {},
   "outputs": [],
   "source": [
    "#create \n",
    "sepal_length_width = np.array(list(zip(x, y)))\n"
   ]
  },
  {
   "cell_type": "code",
   "execution_count": 182,
   "metadata": {},
   "outputs": [],
   "source": [
    "# Step 1: Place K random centroids\n",
    "# define the numbers of clusters k, k is defined with respect of numbers of classes (categories) in our cases species of flowers\n",
    "#generate randomnly three numbers for each feature(column), in our case 2 columns\n",
    "K = 3\n",
    "centroids_x = np.random.uniform(min(x), max(x), size = 3)\n",
    "centroids_y = np.random.uniform(min(y), max(y), size = 3)"
   ]
  },
  {
   "cell_type": "code",
   "execution_count": 183,
   "metadata": {},
   "outputs": [],
   "source": [
    "#create an array with centroids randomnly selected, zip() for merging coordonates for each k,list() for conevrting in list and finally create ndarray\n",
    "centroids = np.array(list(zip(centroids_x, centroids_y)))"
   ]
  },
  {
   "cell_type": "code",
   "execution_count": 184,
   "metadata": {},
   "outputs": [],
   "source": [
    "# Step 2: Assign samples to nearest centroid\n",
    "#write the eucledian distance function which take two parameters and returns the dstance between two points\n",
    "def distance(a,b):\n",
    "    one = (a[0] -b[0]) ** 2 \n",
    "    two = (a[1] -b[1]) ** 2\n",
    "    distance = (one+two) ** 0.5\n",
    "    return distance "
   ]
  },
  {
   "cell_type": "code",
   "execution_count": 185,
   "metadata": {},
   "outputs": [],
   "source": [
    "#create an array to hold clusters labels for each datapoint, its size should be the the length of samples\n",
    "#create an array that will hold the distances for each centroid and should have size of k \n",
    "labels = np.zeros(len(samples))\n",
    "distances = np.zeros(3)\n"
   ]
  },
  {
   "cell_type": "code",
   "execution_count": 186,
   "metadata": {},
   "outputs": [],
   "source": [
    "# step 4 repetealy execute step 2 and 3 until centroids stabilize(convergence)\n",
    "error = np.zeros(3)\n",
    "error[0] = distance(centroids[0], centroids_old[0])\n",
    "error[1] = distance(centroids[1], centroids_old[1])\n",
    "error[2] = distance(centroids[2], centroids_old[2])"
   ]
  },
  {
   "cell_type": "code",
   "execution_count": null,
   "metadata": {},
   "outputs": [],
   "source": [
    "#measure the distance between first point and each centroids, assign each data point to the closest centroid to variable labels\n",
    "while error.all() != 0:\n",
    "    for i in range(len(samples)):\n",
    "        distances[0] = distance(sepal_length_width[i], centroids[0])\n",
    "        distances[1] = distance(sepal_length_width[i], centroids[1])\n",
    "        distances[2] = distance(sepal_length_width[i], centroids[2])\n",
    "        cluster = np.argmin(distances)\n",
    "        labels[i] = cluster\n",
    "#step 3 Update centroids based on the above-assigned data samples.\n",
    "#find new clusters centers by taking the average of the assigned points \n",
    "    centroids_old = deepcopy(centroids)\n",
    "    for i in range(K):\n",
    "        points = [sepal_length_width[j] for j in range(len(sepal_length_width)) if labels[i] == i]\n",
    "        centroids[i] = np.mean(points, axis = 0)\n",
    "#create an array errors, in each error index we calculate the differences between the updated centroid(centroids) and old_centroid\n",
    "    error[0] = distance(centroids[0], centroids_old[0])\n",
    "    error[1] = distance(centroids[1], centroids_old[1])\n",
    "    error[2] = distance(centroids[2], centroids_old[2])\n"
   ]
  },
  {
   "cell_type": "code",
   "execution_count": null,
   "metadata": {},
   "outputs": [],
   "source": [
    "colors = ['r', 'g', 'b'] \n",
    "for i in range(K):\n",
    "    points = np.array([sepal_length_width[j] for j in range(len(samples)) if labels[j] == i])\n",
    "    plt.scatter(points[:, 0], points[:, 1], c=colors[i], alpha=0.5)\n",
    "plt.scatter(centroids[:, 0], centroids[:, 1], marker='D', s=150)\n",
    "plt.xlabel('sepal length (cm)')\n",
    "plt.ylabel('sepal width (cm)')\n",
    "plt.show()"
   ]
  }
 ],
 "metadata": {
  "kernelspec": {
   "display_name": "Python 3",
   "language": "python",
   "name": "python3"
  },
  "language_info": {
   "codemirror_mode": {
    "name": "ipython",
    "version": 3
   },
   "file_extension": ".py",
   "mimetype": "text/x-python",
   "name": "python",
   "nbconvert_exporter": "python",
   "pygments_lexer": "ipython3",
   "version": "3.7.4"
  }
 },
 "nbformat": 4,
 "nbformat_minor": 2
}
