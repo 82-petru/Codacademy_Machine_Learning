{
 "cells": [
  {
   "cell_type": "code",
   "execution_count": 30,
   "metadata": {},
   "outputs": [],
   "source": [
    "import numpy as np\n",
    "import pandas as pd\n",
    "normalized = [0.006630902005283176, 0.21843003412969283, 0.8539325842696629]\n",
    "un_known = [0.5, 0.2, 0.9]\n",
    "k_choose = 5"
   ]
  },
  {
   "cell_type": "code",
   "execution_count": 10,
   "metadata": {},
   "outputs": [],
   "source": [
    "movie_labels = {'Avatar': 1, \"Pirates of the Caribbean: At World's End\": 1, 'Spectre': 0, 'The Dark Knight Rises': 1, 'John Carter': 0, \n",
    "       'Spider-Man 3': 0, 'Tangled': 1, 'Avengers: Age of Ultron': 1, 'Harry Potter and the Half-Blood Prince': 1, \n",
    "       'Batman v Superman: Dawn of Justice': 0, 'Superman Returns': 0, 'Quantum of Solace': 0,\n",
    "       \"Pirates of the Caribbean: Dead Man's Chest\": 1, 'The Lone Ranger': 0, 'Man of Steel': 1,\n",
    "       'The Chronicles of Narnia: Prince Caspian': 0, 'The Avengers': 1, 'Pirates of the Caribbean: On Stranger Tides': 0, \n",
    "       'Men in Black 3': 0, 'The Hobbit: The Battle of the Five Armies': 1, 'The Amazing Spider-Man': 1, 'Robin Hood': 0, \n",
    "       'The Hobbit: The Desolation of Smaug': 1, 'The Golden Compass': 0, 'King Kong': 1, 'Titanic': 1, \n",
    "       'Captain America: Civil War': 1, 'Battleship': 0, 'Jurassic World': 1, 'Skyfall': 1, 'Spider-Man 2': 1, \n",
    "       'Iron Man 3': 1, 'Alice in Wonderland': 0, 'X-Men: The Last Stand': 0, 'Monsters University': 1, \n",
    "       'Transformers: Revenge of the Fallen': 0, 'Transformers: Age of Extinction': 0, 'Oz the Great and Powerful': 0,\n",
    "       'The Amazing Spider-Man 2': 0, 'TRON: Legacy': 0, 'Cars 2': 0, 'Green Lantern': 0, 'Toy Story 3': 1,\n",
    "       'Terminator Salvation': 0, 'Furious 7': 1, 'World War Z': 1, 'X-Men: Days of Future Past': 1,\n",
    "       'Star Trek Into Darkness': 1, 'Jack the Giant Slayer': 0, 'The Great Gatsby': 1,\n",
    "       'Prince of Persia: The Sands of Time': 0, 'Pacific Rim': 1, 'Transformers: Dark of the Moon': 0, \n",
    "       'Indiana Jones and the Kingdom of the Crystal Skull': 0, 'Brave': 1, 'Star Trek Beyond': 1, \n",
    "       'WALL·E': 1, 'Rush Hour 3': 0, '2012': 0, 'A Christmas Carol': 0, 'Jupiter Ascending': 0, \n",
    "       'The Legend of Tarzan': 0, 'The Chronicles of Narnia: The Lion, the Witch and the Wardrobe': 0, \n",
    "       'X-Men: Apocalypse': 1, 'The Dark Knight': 1, 'Up': 1, 'Monsters vs. Aliens': 0, 'Iron Man': 1, 'Hugo': 1,\n",
    "       'Wild Wild West': 0, 'The Mummy: Tomb of the Dragon Emperor': 0, \n",
    "       'Suicide Squad': 0, 'Evan Almighty': 0, 'Edge of Tomorrow': 1, 'Waterworld': 0, \n",
    "       'G.I. Joe: The Rise of Cobra': 0, 'Inside Out': 1, 'The Jungle Book': 1, \n",
    "       'Iron Man 2': 1, 'Snow White and the Huntsman': 0, 'Maleficent': 1, 'Dawn of the Planet of the Apes': 1}"
   ]
  },
  {
   "cell_type": "code",
   "execution_count": 11,
   "metadata": {},
   "outputs": [],
   "source": [
    "movie_dataset = {'Avatar': [0.01940156245995175, 0.4812286689419795, 0.9213483146067416], \"Pirates of the Caribbean: At World's End\": [0.02455894456664483, 0.45051194539249145, 0.898876404494382], \n",
    "                 'Spectre': [0.02005646812429373, 0.378839590443686, 0.9887640449438202], \n",
    "                 'The Dark Knight Rises': [0.020465784164507467, 0.4334470989761092, 0.9550561797752809], \n",
    "                 'John Carter': [0.021587310114693104, 0.3242320819112628, 0.9550561797752809], \n",
    "                 'Spider-Man 3': [0.021120689828849445, 0.4061433447098976, 0.898876404494382], \n",
    "                 'Tangled': [0.021284416244934937, 0.2150170648464164, 0.9325842696629213], \n",
    "                 'Avengers: Age of Ultron': [0.020465784164507467, 0.35494880546075086, 0.9887640449438202], \n",
    "                 'Harry Potter and the Half-Blood Prince': [0.020465784164507467, 0.39590443686006827, 0.9213483146067416], \n",
    "                 'Batman v Superman: Dawn of Justice': [0.020465784164507467, 0.49829351535836175, 1.0], \n",
    "                 'Superman Returns': [0.017109392634754826, 0.45051194539249145, 0.8876404494382022], \n",
    "                 'Quantum of Solace': [0.0163726237623701, 0.2354948805460751, 0.9101123595505618], \n",
    "                 \"Pirates of the Caribbean: Dead Man's Chest\": [0.018419203963438782, 0.3890784982935154, 0.8876404494382022], \n",
    "                 'The Lone Ranger': [0.017600571883011312, 0.3856655290102389, 0.9662921348314607], \n",
    "                 'Man of Steel': [0.018419203963438782, 0.36177474402730375, 0.9662921348314607], \n",
    "                 'The Chronicles of Narnia: Prince Caspian': [0.018419203963438782, 0.3856655290102389, 0.9101123595505618], \n",
    "                 'The Avengers': [0.018009887923225047, 0.4641638225255973, 0.9550561797752809], \n",
    "                 'Pirates of the Caribbean: On Stranger Tides': [0.020465784164507467, 0.3378839590443686, 0.9438202247191011],\n",
    "                 'Men in Black 3': [0.018419203963438782, 0.2354948805460751, 0.9550561797752809],\n",
    "                 'The Hobbit: The Battle of the Five Armies': [0.020465784164507467, 0.4334470989761092, 0.9775280898876404],\n",
    "                 'The Amazing Spider-Man': [0.01882852000365252, 0.39590443686006827, 0.9550561797752809], \n",
    "                 'Robin Hood': [0.0163726237623701, 0.4061433447098976, 0.9325842696629213], \n",
    "                 'The Hobbit: The Desolation of Smaug': [0.018419203963438782, 0.5085324232081911, 0.9662921348314607], \n",
    "                 'The Golden Compass': [0.014735359601515157, 0.2593856655290102, 0.898876404494382], \n",
    "                 'King Kong': [0.016945666218669334, 0.5597269624573379, 0.8764044943820225], \n",
    "                 'Titanic': [0.0163726237623701, 0.5358361774744027, 0.7865168539325843], \n",
    "                 'Captain America: Civil War': [0.020465784164507467, 0.37542662116040953, 1.0], \n",
    "                 'Battleship': [0.017109392634754826, 0.32081911262798635, 0.9550561797752809], \n",
    "                 'Jurassic World': [0.012279463360232739, 0.29692832764505117, 0.9887640449438202], \n",
    "                 'Skyfall': [0.0163726237623701, 0.36177474402730375, 0.9550561797752809], \n",
    "                 'Spider-Man 2': [0.0163726237623701, 0.33447098976109213, 0.8651685393258427], \n",
    "                 'Iron Man 3': [0.0163726237623701, 0.5392491467576792, 0.9662921348314607], \n",
    "                 'Alice in Wonderland': [0.0163726237623701, 0.24232081911262798, 0.9325842696629213], \n",
    "                 'X-Men: The Last Stand': [0.017191255842797574, 0.22866894197952217, 0.8876404494382022], \n",
    "                 'Monsters University': [0.0163726237623701, 0.22866894197952217, 0.9662921348314607], \n",
    "                 'Transformers: Revenge of the Fallen': [0.0163726237623701, 0.3856655290102389, 0.9213483146067416], \n",
    "                 'Transformers: Age of Extinction': [0.017191255842797574, 0.43686006825938567, 0.9775280898876404], \n",
    "                 'Oz the Great and Powerful': [0.017600571883011312, 0.3174061433447099, 0.9662921348314607], \n",
    "                 'The Amazing Spider-Man 2': [0.0163726237623701, 0.3583617747440273, 0.9775280898876404], \n",
    "                 'TRON: Legacy': [0.013916727521087684, 0.3003412969283277, 0.9325842696629213], \n",
    "                 'Cars 2': [0.0163726237623701, 0.2354948805460751, 0.9438202247191011], \n",
    "                 'Green Lantern': [0.0163726237623701, 0.2935153583617747, 0.9438202247191011], \n",
    "                 'Toy Story 3': [0.0163726237623701, 0.22525597269624573, 0.9325842696629213], \n",
    "                 'Terminator Salvation': [0.0163726237623701, 0.2764505119453925, 0.9213483146067416], \n",
    "                 'Furious 7': [0.015553991681942629, 0.3515358361774744, 0.9887640449438202],\n",
    "                 'World War Z': [0.015553991681942629, 0.2935153583617747, 0.9662921348314607], \n",
    "                 'X-Men: Days of Future Past': [0.0163726237623701, 0.3822525597269625, 0.9775280898876404], \n",
    "                 'Star Trek Into Darkness': [0.015553991681942629, 0.3242320819112628, 0.9662921348314607],\n",
    "                 'Jack the Giant Slayer': [0.015963307722156365, 0.2627986348122867, 0.9662921348314607], \n",
    "                 'The Great Gatsby': [0.00859561899830911, 0.36177474402730375, 0.9662921348314607], \n",
    "                 'Prince of Persia: The Sands of Time': [0.0163726237623701, 0.2696245733788396, 0.9325842696629213], \n",
    "                 'Pacific Rim': [0.015553991681942629, 0.32081911262798635, 0.9662921348314607], \n",
    "                 'Transformers: Dark of the Moon': [0.015963307722156365, 0.3993174061433447, 0.9438202247191011], \n",
    "                 'Indiana Jones and the Kingdom of the Crystal Skull': [0.015144675641728892, 0.2901023890784983, 0.9101123595505618], \n",
    "                 'Brave': [0.015144675641728892, 0.19112627986348124, 0.9550561797752809], \n",
    "                 'Star Trek Beyond': [0.015144675641728892, 0.2901023890784983, 1.0], \n",
    "                 'WALL·E': [0.014735359601515157, 0.20819112627986347, 0.9101123595505618], \n",
    "                 'Rush Hour 3': [0.011460831279805265, 0.18430034129692832, 0.898876404494382],\n",
    "                 '2012': [0.0163726237623701, 0.4129692832764505, 0.9213483146067416], \n",
    "                 'A Christmas Carol': [0.0163726237623701, 0.20136518771331058, 0.9213483146067416],\n",
    "                 'Jupiter Ascending': [0.014407906769344168, 0.30716723549488056, 0.9887640449438202], \n",
    "                 'The Legend of Tarzan': [0.014735359601515157, 0.24914675767918087, 1.0], \n",
    "                 'The Chronicles of Narnia: The Lion, the Witch and the Wardrobe': [0.014735359601515157, 0.3856655290102389, 0.8764044943820225], \n",
    "                 'X-Men: Apocalypse': [0.014571633185429662, 0.3651877133105802, 1.0], 'The Dark Knight': [0.015144675641728892, 0.3924914675767918, 0.9101123595505618], 'Up': [0.01432604356130142, 0.20136518771331058, 0.9213483146067416], 'Monsters vs. Aliens': [0.01432604356130142, 0.1945392491467577, 0.9213483146067416], 'Iron Man': [0.011460831279805265, 0.3037542662116041, 0.9101123595505618], 'Hugo': [0.013916727521087684, 0.3037542662116041, 0.9438202247191011], 'Wild Wild West': [0.013916727521087684, 0.2354948805460751, 0.8089887640449438], 'The Mummy: Tomb of the Dragon Emperor': [0.011870147320019002, 0.25597269624573377, 0.9101123595505618], 'Suicide Squad': [0.01432604356130142, 0.2935153583617747, 1.0], 'Evan Almighty': [0.01432604356130142, 0.20136518771331058, 0.898876404494382], 'Edge of Tomorrow': [0.014571633185429662, 0.2593856655290102, 0.9775280898876404], \n",
    "                 'Waterworld': [0.01432604356130142, 0.47440273037542663, 0.7640449438202247], 'G.I. Joe: The Rise of Cobra': [0.01432604356130142, 0.2764505119453925, 0.9213483146067416], 'Inside Out': [0.01432604356130142, 0.19795221843003413, 0.9887640449438202], 'The Jungle Book': [0.01432604356130142, 0.2354948805460751, 1.0], 'Iron Man 2': [0.0163726237623701, 0.29692832764505117, 0.9325842696629213], 'Snow White and the Huntsman': [0.013916727521087684, 0.3242320819112628, 0.9550561797752809], 'Maleficent': [0.014735359601515157, 0.20477815699658702, 0.9775280898876404], 'Dawn of the Planet of the Apes': [0.013916727521087684, 0.3174061433447099, 0.9775280898876404]}"
   ]
  },
  {
   "cell_type": "code",
   "execution_count": 12,
   "metadata": {},
   "outputs": [
    {
     "ename": "FileNotFoundError",
     "evalue": "[Errno 2] No such file or directory: 'Movie_labels.txt'",
     "output_type": "error",
     "traceback": [
      "\u001b[1;31m---------------------------------------------------------------------------\u001b[0m",
      "\u001b[1;31mFileNotFoundError\u001b[0m                         Traceback (most recent call last)",
      "\u001b[1;32m<ipython-input-12-d1ef3f1c5617>\u001b[0m in \u001b[0;36m<module>\u001b[1;34m\u001b[0m\n\u001b[1;32m----> 1\u001b[1;33m \u001b[1;32mwith\u001b[0m \u001b[0mopen\u001b[0m\u001b[1;33m(\u001b[0m\u001b[1;34m'Movie_labels.txt'\u001b[0m\u001b[1;33m,\u001b[0m \u001b[1;34m'r'\u001b[0m\u001b[1;33m)\u001b[0m \u001b[1;32mas\u001b[0m \u001b[0mlabels\u001b[0m\u001b[1;33m:\u001b[0m\u001b[1;33m\u001b[0m\u001b[1;33m\u001b[0m\u001b[0m\n\u001b[0m\u001b[0;32m      2\u001b[0m     \u001b[0mlabel_movie\u001b[0m \u001b[1;33m=\u001b[0m \u001b[0mlabels\u001b[0m\u001b[1;33m.\u001b[0m\u001b[0mread\u001b[0m\u001b[1;33m(\u001b[0m\u001b[1;33m)\u001b[0m\u001b[1;33m\u001b[0m\u001b[1;33m\u001b[0m\u001b[0m\n",
      "\u001b[1;31mFileNotFoundError\u001b[0m: [Errno 2] No such file or directory: 'Movie_labels.txt'"
     ]
    }
   ],
   "source": [
    "with open('Movie_labels.txt', 'r') as labels:\n",
    "    label_movie = labels.read() "
   ]
  },
  {
   "cell_type": "code",
   "execution_count": null,
   "metadata": {},
   "outputs": [],
   "source": [
    "#function to calculate distances between  points \n",
    "def distance(movie1, movie2):\n",
    "    squared_distance = 0\n",
    "    for dist in range(len(movie1)):\n",
    "        squared_distance += (movie1[dist] - movie2[dist])**2\n",
    "        print(squared_distance)\n",
    "        squared_root = squared_distance ** 0.5 \n",
    "        return squared_root\n",
    "print(distance(un_known, normalized))"
   ]
  },
  {
   "cell_type": "code",
   "execution_count": null,
   "metadata": {},
   "outputs": [],
   "source": [
    "def classify(unknown, dataset, k):\n",
    "    distances = []\n",
    "    lst = []\n",
    "    for k in dataset:\n",
    "        lst.append(dataset[k])\n",
    "        print(lst)\n",
    "        distance_point = distance(lst, unknown)\n",
    "        distances.append([distance_point, k])\n",
    "        distances.sort()\n",
    "        neighbors = distances[:k]\n",
    "    return distance\n",
    "#print(classify([0.4, 0.2, 0.9], movie_dataset, 5))"
   ]
  },
  {
   "cell_type": "code",
   "execution_count": null,
   "metadata": {},
   "outputs": [],
   "source": [
    "distance = 0\n",
    "unknown = [0.4, 0.2, 0.9]\n",
    "for key, value in movie_dataset.items():\n",
    "    for i in range(len(value)):\n",
    "        distance += (value[i] - unknown[i])**2\n",
    "        squared_root = distance ** 0.5 \n",
    "    #print(squared_root)"
   ]
  },
  {
   "cell_type": "code",
   "execution_count": null,
   "metadata": {},
   "outputs": [],
   "source": [
    "value = [0.02455894456664483, 0.45051194539249145, 0.898876404494382]\n",
    "distance = 0\n",
    "unknown = [0.4, 0.2, 0.9]\n",
    "for i in range(len(value)):\n",
    "        distance += (value[i] - unknown[i])**2\n",
    "        squared_root = distance ** 0.5 \n",
    "print(squared_root)"
   ]
  },
  {
   "cell_type": "code",
   "execution_count": 25,
   "metadata": {},
   "outputs": [],
   "source": [
    "from copy import deepcopy\n",
    "li1 = [1, 2, [3,5], 4] \n",
    "li2 = deepcopy(li1)\n",
    "li2[2][0] = 7"
   ]
  },
  {
   "cell_type": "code",
   "execution_count": 34,
   "metadata": {},
   "outputs": [
    {
     "name": "stdout",
     "output_type": "stream",
     "text": [
      "<class 'pandas.core.frame.DataFrame'>\n"
     ]
    }
   ],
   "source": [
    "df = pd.DataFrame(movie_dataset)\n",
    "print(type(df))"
   ]
  },
  {
   "cell_type": "code",
   "execution_count": null,
   "metadata": {},
   "outputs": [],
   "source": []
  }
 ],
 "metadata": {
  "kernelspec": {
   "display_name": "Python 3",
   "language": "python",
   "name": "python3"
  },
  "language_info": {
   "codemirror_mode": {
    "name": "ipython",
    "version": 3
   },
   "file_extension": ".py",
   "mimetype": "text/x-python",
   "name": "python",
   "nbconvert_exporter": "python",
   "pygments_lexer": "ipython3",
   "version": "3.7.4"
  }
 },
 "nbformat": 4,
 "nbformat_minor": 2
}
