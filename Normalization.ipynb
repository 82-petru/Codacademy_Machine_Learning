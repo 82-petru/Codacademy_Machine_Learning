{
 "cells": [
  {
   "cell_type": "code",
   "execution_count": 24,
   "metadata": {},
   "outputs": [],
   "source": [
    "import numpy as np\n",
    "import statistics as stats\n",
    "import matplotlib.pyplot as plt"
   ]
  },
  {
   "cell_type": "code",
   "execution_count": 25,
   "metadata": {},
   "outputs": [
    {
     "data": {
      "text/plain": [
       "[<matplotlib.lines.Line2D at 0x2b57edcf148>]"
      ]
     },
     "execution_count": 25,
     "metadata": {},
     "output_type": "execute_result"
    },
    {
     "data": {
      "image/png": "[encoded data removed]",
      "text/plain": [
       "<Figure size 432x288 with 1 Axes>"
      ]
     },
     "metadata": {
      "needs_background": "light"
     },
     "output_type": "display_data"
    }
   ],
   "source": [
    "x = [1, 2, 3, 4, 5, 6, 7, 8, 9, 10, 11, 12]\n",
    "y = [52, 74, 79, 95, 115, 110, 129, 126, 147, 146, 457, 580]\n",
    "plt.plot(x, y, \"o\")"
   ]
  },
  {
   "cell_type": "code",
   "execution_count": 26,
   "metadata": {},
   "outputs": [
    {
     "data": {
      "text/plain": [
       "[<matplotlib.lines.Line2D at 0x2b57ee31fc8>]"
      ]
     },
     "execution_count": 26,
     "metadata": {},
     "output_type": "execute_result"
    },
    {
     "data": {
      "image/png": "[encoded data removed]",
      "text/plain": [
       "<Figure size 432x288 with 1 Axes>"
      ]
     },
     "metadata": {
      "needs_background": "light"
     },
     "output_type": "display_data"
    }
   ],
   "source": [
    "#mi-max normalization \n",
    "x_min_value = min(x)\n",
    "x_max_value = max(x)\n",
    "y_min_value = min(y)\n",
    "y_max_value = max(y)\n",
    "x_min_max = [(i - x_min_value)/(x_max_value - x_min_value) for i in x]\n",
    "y_min_max = [(i - y_min_value)/(y_max_value - y_min_value) for i in y]\n",
    "plt.plot(x_min_max, y_min_max, \"o\")"
   ]
  },
  {
   "cell_type": "code",
   "execution_count": 28,
   "metadata": {},
   "outputs": [],
   "source": [
    "#z-score normalization\n",
    "x_mean = np.mean(x)\n",
    "y_mean = np.mean(y)\n",
    "x_std = np.std(x)\n",
    "y_std = np.std(y)"
   ]
  },
  {
   "cell_type": "code",
   "execution_count": 33,
   "metadata": {},
   "outputs": [
    {
     "name": "stdout",
     "output_type": "stream",
     "text": [
      "[-1.5932550136313832, -1.3035722838802226, -1.013889554129062, -0.7242068243779014, -0.43452409462674085, -0.14484136487558028, 0.14484136487558028, 0.43452409462674085, 0.7242068243779014, 1.013889554129062, 1.3035722838802226, 1.5932550136313832]\n",
      "[-0.7852170605034696, -0.6457168559456528, -0.6140122640006943, -0.5125575697768274, -0.3857392019969939, -0.4174437939419523, -0.2969663445511104, -0.3159890997180854, -0.18282981354926015, -0.18917073193825182, 1.7828548870381602, 2.562787848884137]\n"
     ]
    },
    {
     "data": {
      "text/plain": [
       "[<matplotlib.lines.Line2D at 0x2b57eba0e88>]"
      ]
     },
     "execution_count": 33,
     "metadata": {},
     "output_type": "execute_result"
    },
    {
     "data": {
      "image/png": "[encoded data removed]",
      "text/plain": [
       "<Figure size 432x288 with 1 Axes>"
      ]
     },
     "metadata": {
      "needs_background": "light"
     },
     "output_type": "display_data"
    }
   ],
   "source": [
    "x_z_score = [(i -x_mean) / x_std for i in x]\n",
    "y_z_score = [(i - y_mean) / y_std for i in y]\n",
    "print(x_z_score)\n",
    "print(y_z_score)\n",
    "plt.plot(x_z_score, y_z_score, \"o\")"
   ]
  },
  {
   "cell_type": "code",
   "execution_count": 1,
   "metadata": {},
   "outputs": [],
   "source": [
    "#normalization with min_max function using for loop \n",
    "\n",
    "release_dates = [1897, 1998, 2000, 1948, 1962, 1950, 1975, 1960, 2017, 1937, 1968, 1996, 1944, 1891, 1995, 1948, 2011, 1965, 1891, 1978]\n"
   ]
  },
  {
   "cell_type": "code",
   "execution_count": 29,
   "metadata": {},
   "outputs": [],
   "source": [
    "def min_max_normalize(lst):\n",
    "      minimum = min(lst) \n",
    "      maximum = max(lst)\n",
    "      normalized = []\n",
    "      for i in lst:\n",
    "            min_max = (i - minimum) / (maximum - minimum)\n",
    "            normalized.append(min_max)\n",
    "      return normalized"
   ]
  },
  {
   "cell_type": "code",
   "execution_count": 30,
   "metadata": {},
   "outputs": [
    {
     "name": "stdout",
     "output_type": "stream",
     "text": [
      "[0.047619047619047616, 0.8492063492063492, 0.8650793650793651, 0.4523809523809524, 0.5634920634920635, 0.46825396825396826, 0.6666666666666666, 0.5476190476190477, 1.0, 0.36507936507936506, 0.6111111111111112, 0.8333333333333334, 0.42063492063492064, 0.0, 0.8253968253968254, 0.4523809523809524, 0.9523809523809523, 0.5873015873015873, 0.0, 0.6904761904761905]\n"
     ]
    }
   ],
   "source": [
    "print(min_max_normalize(release_dates))"
   ]
  },
  {
   "cell_type": "code",
   "execution_count": null,
   "metadata": {},
   "outputs": [],
   "source": []
  }
 ],
 "metadata": {
  "kernelspec": {
   "display_name": "Python 3",
   "language": "python",
   "name": "python3"
  },
  "language_info": {
   "codemirror_mode": {
    "name": "ipython",
    "version": 3
   },
   "file_extension": ".py",
   "mimetype": "text/x-python",
   "name": "python",
   "nbconvert_exporter": "python",
   "pygments_lexer": "ipython3",
   "version": "3.7.4"
  }
 },
 "nbformat": 4,
 "nbformat_minor": 2
}
