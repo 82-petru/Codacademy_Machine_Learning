{
 "cells": [
  {
   "cell_type": "code",
   "execution_count": 411,
   "metadata": {},
   "outputs": [],
   "source": [
    "import pandas as pd\n",
    "import numpy as np\n",
    "from matplotlib import pyplot as plt\n",
    "from sklearn.model_selection import train_test_split"
   ]
  },
  {
   "cell_type": "code",
   "execution_count": 412,
   "metadata": {},
   "outputs": [
    {
     "name": "stdout",
     "output_type": "stream",
     "text": [
      "1\n"
     ]
    }
   ],
   "source": [
    "movie_labels = {'Avatar': 1, \"Pirates of the Caribbean: At World's End\": 1, 'Spectre': 0, 'The Dark Knight Rises': 1, 'John Carter': 0, 'Spider-Man 3': 0, 'Tangled': 1, 'Avengers: Age of Ultron': 1, 'Harry Potter and the Half-Blood Prince': 1, 'Batman v Superman: Dawn of Justice': 0, 'Superman Returns': 0, 'Quantum of Solace': 0, \"Pirates of the Caribbean: Dead Man's Chest\": 1, 'The Lone Ranger': 0, 'Man of Steel': 1, 'The Chronicles of Narnia: Prince Caspian': 0, 'The Avengers': 1, 'Pirates of the Caribbean: On Stranger Tides': 0, 'Men in Black 3': 0, 'The Hobbit: The Battle of the Five Armies': 1, 'The Amazing Spider-Man': 1, 'Robin Hood': 0, 'The Hobbit: The Desolation of Smaug': 1, 'The Golden Compass': 0, 'King Kong': 1, 'Titanic': 1, 'Captain America: Civil War': 1, 'Battleship': 0, 'Jurassic World': 1, 'Skyfall': 1, 'Spider-Man 2': 1, 'Iron Man 3': 1, 'Alice in Wonderland': 0, 'X-Men: The Last Stand': 0, 'Monsters University': 1, 'Transformers: Revenge of the Fallen': 0, 'Transformers: Age of Extinction': 0, 'Oz the Great and Powerful': 0, 'The Amazing Spider-Man 2': 0, 'TRON: Legacy': 0, 'Cars 2': 0, 'Green Lantern': 0, 'Toy Story 3': 1, 'Terminator Salvation': 0, 'Furious 7': 1, 'World War Z': 1, 'X-Men: Days of Future Past': 1, 'Star Trek Into Darkness': 1, 'Jack the Giant Slayer': 0, 'The Great Gatsby': 1, 'Prince of Persia: The Sands of Time': 0, 'Pacific Rim': 1, 'Transformers: Dark of the Moon': 0, 'Indiana Jones and the Kingdom of the Crystal Skull': 0, 'Brave': 1, 'Star Trek Beyond': 1, 'WALL·E': 1, 'Rush Hour 3': 0, '2012': 0, 'A Christmas Carol': 0, 'Jupiter Ascending': 0, 'The Legend of Tarzan': 0, 'The Chronicles of Narnia: The Lion, the Witch and the Wardrobe': 0, 'X-Men: Apocalypse': 1, 'The Dark Knight': 1, 'Up': 1, 'Monsters vs. Aliens': 0, 'Iron Man': 1, 'Hugo': 1, 'Wild Wild West': 0, 'The Mummy: Tomb of the Dragon Emperor': 0, 'Suicide Squad': 0, 'Evan Almighty': 0, 'Edge of Tomorrow': 1, 'Waterworld': 0, 'G.I. Joe: The Rise of Cobra': 0, 'Inside Out': 1, 'The Jungle Book': 1, 'Iron Man 2': 1, 'Snow White and the Huntsman': 0, 'Maleficent': 1, 'Dawn of the Planet of the Apes': 1, '47 Ronin': 0, 'Captain America: The Winter Soldier': 1, 'Shrek Forever After': 0}\n",
    "movie = 'Spectre'\n",
    "print(movie_labels['Avatar'])"
   ]
  },
  {
   "cell_type": "code",
   "execution_count": 413,
   "metadata": {},
   "outputs": [
    {
     "name": "stdout",
     "output_type": "stream",
     "text": [
      "85\n"
     ]
    }
   ],
   "source": [
    "movie_dataset = {'Avatar': [0.01940156245995175, 0.4812286689419795, 0.9213483146067416], \"Pirates of the Caribbean: At World's End\": [0.02455894456664483, 0.45051194539249145, 0.898876404494382], 'Spectre': [0.02005646812429373, 0.378839590443686, 0.9887640449438202], 'The Dark Knight Rises': [0.020465784164507467, 0.4334470989761092, 0.9550561797752809], 'John Carter': [0.021587310114693104, 0.3242320819112628, 0.9550561797752809], 'Spider-Man 3': [0.021120689828849445, 0.4061433447098976, 0.898876404494382], 'Tangled': [0.021284416244934937, 0.2150170648464164, 0.9325842696629213], 'Avengers: Age of Ultron': [0.020465784164507467, 0.35494880546075086, 0.9887640449438202], 'Harry Potter and the Half-Blood Prince': [0.020465784164507467, 0.39590443686006827, 0.9213483146067416], 'Batman v Superman: Dawn of Justice': [0.020465784164507467, 0.49829351535836175, 1.0], 'Superman Returns': [0.017109392634754826, 0.45051194539249145, 0.8876404494382022], 'Quantum of Solace': [0.0163726237623701, 0.2354948805460751, 0.9101123595505618], \"Pirates of the Caribbean: Dead Man's Chest\": [0.018419203963438782, 0.3890784982935154, 0.8876404494382022], 'The Lone Ranger': [0.017600571883011312, 0.3856655290102389, 0.9662921348314607], 'Man of Steel': [0.018419203963438782, 0.36177474402730375, 0.9662921348314607], 'The Chronicles of Narnia: Prince Caspian': [0.018419203963438782, 0.3856655290102389, 0.9101123595505618], 'The Avengers': [0.018009887923225047, 0.4641638225255973, 0.9550561797752809], 'Pirates of the Caribbean: On Stranger Tides': [0.020465784164507467, 0.3378839590443686, 0.9438202247191011], 'Men in Black 3': [0.018419203963438782, 0.2354948805460751, 0.9550561797752809], 'The Hobbit: The Battle of the Five Armies': [0.020465784164507467, 0.4334470989761092, 0.9775280898876404], 'The Amazing Spider-Man': [0.01882852000365252, 0.39590443686006827, 0.9550561797752809], 'Robin Hood': [0.0163726237623701, 0.4061433447098976, 0.9325842696629213], 'The Hobbit: The Desolation of Smaug': [0.018419203963438782, 0.5085324232081911, 0.9662921348314607], 'The Golden Compass': [0.014735359601515157, 0.2593856655290102, 0.898876404494382], 'King Kong': [0.016945666218669334, 0.5597269624573379, 0.8764044943820225], 'Titanic': [0.0163726237623701, 0.5358361774744027, 0.7865168539325843], 'Captain America: Civil War': [0.020465784164507467, 0.37542662116040953, 1.0], 'Battleship': [0.017109392634754826, 0.32081911262798635, 0.9550561797752809], 'Jurassic World': [0.012279463360232739, 0.29692832764505117, 0.9887640449438202], 'Skyfall': [0.0163726237623701, 0.36177474402730375, 0.9550561797752809], 'Spider-Man 2': [0.0163726237623701, 0.33447098976109213, 0.8651685393258427], 'Iron Man 3': [0.0163726237623701, 0.5392491467576792, 0.9662921348314607], 'Alice in Wonderland': [0.0163726237623701, 0.24232081911262798, 0.9325842696629213], 'X-Men: The Last Stand': [0.017191255842797574, 0.22866894197952217, 0.8876404494382022], 'Monsters University': [0.0163726237623701, 0.22866894197952217, 0.9662921348314607], 'Transformers: Revenge of the Fallen': [0.0163726237623701, 0.3856655290102389, 0.9213483146067416], 'Transformers: Age of Extinction': [0.017191255842797574, 0.43686006825938567, 0.9775280898876404], 'Oz the Great and Powerful': [0.017600571883011312, 0.3174061433447099, 0.9662921348314607], 'The Amazing Spider-Man 2': [0.0163726237623701, 0.3583617747440273, 0.9775280898876404], 'TRON: Legacy': [0.013916727521087684, 0.3003412969283277, 0.9325842696629213], 'Cars 2': [0.0163726237623701, 0.2354948805460751, 0.9438202247191011], 'Green Lantern': [0.0163726237623701, 0.2935153583617747, 0.9438202247191011], 'Toy Story 3': [0.0163726237623701, 0.22525597269624573, 0.9325842696629213], 'Terminator Salvation': [0.0163726237623701, 0.2764505119453925, 0.9213483146067416], 'Furious 7': [0.015553991681942629, 0.3515358361774744, 0.9887640449438202], 'World War Z': [0.015553991681942629, 0.2935153583617747, 0.9662921348314607], 'X-Men: Days of Future Past': [0.0163726237623701, 0.3822525597269625, 0.9775280898876404], 'Star Trek Into Darkness': [0.015553991681942629, 0.3242320819112628, 0.9662921348314607], 'Jack the Giant Slayer': [0.015963307722156365, 0.2627986348122867, 0.9662921348314607], 'The Great Gatsby': [0.00859561899830911, 0.36177474402730375, 0.9662921348314607], 'Prince of Persia: The Sands of Time': [0.0163726237623701, 0.2696245733788396, 0.9325842696629213], 'Pacific Rim': [0.015553991681942629, 0.32081911262798635, 0.9662921348314607], 'Transformers: Dark of the Moon': [0.015963307722156365, 0.3993174061433447, 0.9438202247191011], 'Indiana Jones and the Kingdom of the Crystal Skull': [0.015144675641728892, 0.2901023890784983, 0.9101123595505618], 'Brave': [0.015144675641728892, 0.19112627986348124, 0.9550561797752809], 'Star Trek Beyond': [0.015144675641728892, 0.2901023890784983, 1.0], 'WALL·E': [0.014735359601515157, 0.20819112627986347, 0.9101123595505618], 'Rush Hour 3': [0.011460831279805265, 0.18430034129692832, 0.898876404494382], '2012': [0.0163726237623701, 0.4129692832764505, 0.9213483146067416], 'A Christmas Carol': [0.0163726237623701, 0.20136518771331058, 0.9213483146067416], 'Jupiter Ascending': [0.014407906769344168, 0.30716723549488056, 0.9887640449438202], 'The Legend of Tarzan': [0.014735359601515157, 0.24914675767918087, 1.0], 'The Chronicles of Narnia: The Lion, the Witch and the Wardrobe': [0.014735359601515157, 0.3856655290102389, 0.8764044943820225], 'X-Men: Apocalypse': [0.014571633185429662, 0.3651877133105802, 1.0], 'The Dark Knight': [0.015144675641728892, 0.3924914675767918, 0.9101123595505618], 'Up': [0.01432604356130142, 0.20136518771331058, 0.9213483146067416], 'Monsters vs. Aliens': [0.01432604356130142, 0.1945392491467577, 0.9213483146067416], 'Iron Man': [0.011460831279805265, 0.3037542662116041, 0.9101123595505618], 'Hugo': [0.013916727521087684, 0.3037542662116041, 0.9438202247191011], 'Wild Wild West': [0.013916727521087684, 0.2354948805460751, 0.8089887640449438], 'The Mummy: Tomb of the Dragon Emperor': [0.011870147320019002, 0.25597269624573377, 0.9101123595505618], 'Suicide Squad': [0.01432604356130142, 0.2935153583617747, 1.0], 'Evan Almighty': [0.01432604356130142, 0.20136518771331058, 0.898876404494382], 'Edge of Tomorrow': [0.014571633185429662, 0.2593856655290102, 0.9775280898876404], 'Waterworld': [0.01432604356130142, 0.47440273037542663, 0.7640449438202247], 'G.I. Joe: The Rise of Cobra': [0.01432604356130142, 0.2764505119453925, 0.9213483146067416], 'Inside Out': [0.01432604356130142, 0.19795221843003413, 0.9887640449438202], 'The Jungle Book': [0.01432604356130142, 0.2354948805460751, 1.0], 'Iron Man 2': [0.0163726237623701, 0.29692832764505117, 0.9325842696629213], 'Snow White and the Huntsman': [0.013916727521087684, 0.3242320819112628, 0.9550561797752809], 'Maleficent': [0.014735359601515157, 0.20477815699658702, 0.9775280898876404], 'Dawn of the Planet of the Apes': [0.013916727521087684, 0.3174061433447099, 0.9775280898876404], '47 Ronin': [0.01432604356130142, 0.310580204778157, 0.9662921348314607], 'Captain America: The Winter Soldier': [0.013916727521087684, 0.3378839590443686, 0.9775280898876404], 'Shrek Forever After': [0.013507411480873947, 0.19112627986348124, 0.9325842696629213]}\n",
    "movie_len = len(movie_dataset)\n",
    "print(movie_len)"
   ]
  },
  {
   "cell_type": "code",
   "execution_count": 422,
   "metadata": {},
   "outputs": [],
   "source": [
    "dataset_training = df.iloc[:3, :43]\n",
    "dataset_testing = df.iloc[:3, 43:]\n",
    "#print(dataset_training)\n",
    "#print(dataset_testing)"
   ]
  },
  {
   "cell_type": "code",
   "execution_count": 415,
   "metadata": {},
   "outputs": [
    {
     "name": "stdout",
     "output_type": "stream",
     "text": [
      "43\n"
     ]
    }
   ],
   "source": [
    "label_training = {'Avatar': 1, \"Pirates of the Caribbean: At World's End\": 1, 'Spectre': 0, 'The Dark Knight Rises': 1, 'John Carter': 0, 'Spider-Man 3': 0, 'Tangled': 1, 'Avengers: Age of Ultron': 1, 'Harry Potter and the Half-Blood Prince': 1, 'Batman v Superman: Dawn of Justice': 0, 'Superman Returns': 0, 'Quantum of Solace': 0, \"Pirates of the Caribbean: Dead Man's Chest\": 1, 'The Lone Ranger': 0, 'Man of Steel': 1, 'The Chronicles of Narnia: Prince Caspian': 0, 'The Avengers': 1, 'Pirates of the Caribbean: On Stranger Tides': 0, 'Men in Black 3': 0, 'The Hobbit: The Battle of the Five Armies': 1, 'The Amazing Spider-Man': 1, 'Robin Hood': 0, 'The Hobbit: The Desolation of Smaug': 1, 'The Golden Compass': 0, 'King Kong': 1, 'Titanic': 1, 'Captain America: Civil War': 1, 'Battleship': 0, 'Jurassic World': 1, 'Skyfall': 1, 'Spider-Man 2': 1, 'Iron Man 3': 1, 'Alice in Wonderland': 0, 'X-Men: The Last Stand': 0, 'Monsters University': 1, 'Transformers: Revenge of the Fallen': 0, 'Transformers: Age of Extinction': 0, 'Oz the Great and Powerful': 0, 'The Amazing Spider-Man 2': 0, 'TRON: Legacy': 0, 'Cars 2': 0, 'Green Lantern': 0}\n",
    "label_testing = {'Hugo': 1, 'Wild Wild West': 0, 'The Mummy: Tomb of the Dragon Emperor': 0, 'Suicide Squad': 0, 'Evan Almighty': 0, 'Edge of Tomorrow': 1, 'Waterworld': 0, 'G.I. Joe: The Rise of Cobra': 0, 'Inside Out': 1, 'The Jungle Book': 1, 'Iron Man 2': 1, 'Snow White and the Huntsman': 0, 'Maleficent': 1, 'Dawn of the Planet of the Apes': 1, '47 Ronin': 0, 'Captain America: The Winter Soldier': 1, 'Shrek Forever After': 0, 'Toy Story 3': 1, 'Terminator Salvation': 0, 'Furious 7': 1, 'World War Z': 1, 'X-Men: Days of Future Past': 1, 'Star Trek Into Darkness': 1, 'Jack the Giant Slayer': 0, 'The Great Gatsby': 1, 'Prince of Persia: The Sands of Time': 0, 'Pacific Rim': 1, 'Transformers: Dark of the Moon': 0, 'Indiana Jones and the Kingdom of the Crystal Skull': 0, 'Brave': 1, 'Star Trek Beyond': 1, 'WALL·E': 1, 'Rush Hour 3': 0, '2012': 0, 'A Christmas Carol': 0, 'Jupiter Ascending': 0, 'The Legend of Tarzan': 0, 'The Chronicles of Narnia: The Lion, the Witch and the Wardrobe': 0, 'X-Men: Apocalypse': 1, 'The Dark Knight': 1, 'Up': 1, 'Monsters vs. Aliens': 0, 'Iron Man': 1}\n",
    "#print(label_testing[\"Edge of Tomorrow\"])\n",
    "print(len(label_testing))"
   ]
  },
  {
   "cell_type": "code",
   "execution_count": 416,
   "metadata": {},
   "outputs": [],
   "source": [
    "un_known = [0.5, 0.2, 0.9]\n",
    "dataset = df['Avatar']"
   ]
  },
  {
   "cell_type": "code",
   "execution_count": 417,
   "metadata": {},
   "outputs": [
    {
     "name": "stdout",
     "output_type": "stream",
     "text": [
      "0.5572433695768498\n"
     ]
    }
   ],
   "source": [
    "def distance(movie1, movie2):\n",
    "    squared_difference = 0\n",
    "    for i in range(len(movie1)):\n",
    "        squared_difference += (movie1[i] - movie2[i]) ** 2\n",
    "        final_distance = squared_difference ** 0.5\n",
    "    return final_distance\n",
    "print(distance(dataset, un_known))"
   ]
  },
  {
   "cell_type": "code",
   "execution_count": 423,
   "metadata": {},
   "outputs": [
    {
     "name": "stdout",
     "output_type": "stream",
     "text": [
      "0.5348837209302325\n"
     ]
    }
   ],
   "source": [
    "def classify(unknown, dataset, labels, k):\n",
    "    distances = []\n",
    "    num_bad = 0\n",
    "    num_good = 0 \n",
    "    for tittle in dataset:\n",
    "        distance_to_point = distance(dataset[tittle], unknown)\n",
    "        distances.append([distance_to_point, tittle])\n",
    "        distances.sort()\n",
    "    neighbors = distances[0:k]\n",
    "    #print(neighbors)\n",
    "    for movie in neighbors:\n",
    "        #print(movie)\n",
    "        title = movie[1]\n",
    "        if labels[title] == 0:\n",
    "            num_bad += 1\n",
    "        if labels[title] == 1: \n",
    "            num_good +=1\n",
    "        if num_bad < num_good:\n",
    "            return 1\n",
    "        else:\n",
    "            return 0 \n",
    "#if \"Call Me By Your Name\" in movie_dataset: #classify my favorite movie check if the movie exist into the list \n",
    "    #print(movie_dataset[\"movie_dataset\"])\n",
    "#else:\n",
    "    #print(False)\n",
    "#my_movie = [350.000, 132, 2017]# movie attributes budget, timing and year \n",
    "#normalized_my_movie = [1.080594346164264e-08, 0.3242320819112628, 1.0112359550561798]#rescale the movie values by normalization function\n",
    "#guess = classify(dataset_testing['Wild Wild West'], dataset_training, label_training, 5)\n",
    "#print(guess)\n",
    "#if label_testing['Wild Wild West'] == guess:\n",
    "    #print(\"Correct!\")\n",
    "#else:\n",
    "    #print(\"Wrong!\")\n",
    "    \n",
    "def find_validation_accuracy(x_train, y_train, x_test, y_test, k):\n",
    "    num_correct = 0.0\n",
    "    for tittle in x_test:\n",
    "        guess = classify(dataset_testing[tittle], dataset_training, label_training, k)\n",
    "        #print(guess)\n",
    "        if y_test[tittle] == guess:\n",
    "            num_correct += 1\n",
    "            \n",
    "    return num_correct / len(y_test)\n",
    "\n",
    "print(find_validation_accuracy(dataset_training, label_training, dataset_testing, label_testing, 3))            \n",
    "    "
   ]
  },
  {
   "cell_type": "code",
   "execution_count": null,
   "metadata": {},
   "outputs": [],
   "source": []
  }
 ],
 "metadata": {
  "kernelspec": {
   "display_name": "Python 3",
   "language": "python",
   "name": "python3"
  },
  "language_info": {
   "codemirror_mode": {
    "name": "ipython",
    "version": 3
   },
   "file_extension": ".py",
   "mimetype": "text/x-python",
   "name": "python",
   "nbconvert_exporter": "python",
   "pygments_lexer": "ipython3",
   "version": "3.7.4"
  }
 },
 "nbformat": 4,
 "nbformat_minor": 2
}
