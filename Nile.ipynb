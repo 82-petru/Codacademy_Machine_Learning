{
 "cells": [
  {
   "cell_type": "code",
   "execution_count": 154,
   "metadata": {},
   "outputs": [],
   "source": [
    "import math"
   ]
  },
  {
   "cell_type": "code",
   "execution_count": 155,
   "metadata": {},
   "outputs": [],
   "source": [
    "radians = math.radians(1)\n",
    "drivers = {\"Petru\" : [80, 30], \"Cosmin\" : [90, 30], \"Ion\" : [110, 30], \"Vasile\" : [120, 40],  \"Stefan\" : [100, 35]}\n",
    "names = [ driver for driver in drivers]"
   ]
  },
  {
   "cell_type": "code",
   "execution_count": 156,
   "metadata": {},
   "outputs": [
    {
     "name": "stdout",
     "output_type": "stream",
     "text": [
      "[30, 30, 30, 40, 35]\n"
     ]
    }
   ],
   "source": [
    "def driver_list(lista, index):\n",
    "    speed = []\n",
    "    for d in lista:\n",
    "        a = lista[d]\n",
    "        speed.append(a[index])\n",
    "    return speed\n",
    "print(driver_list(drivers, 1))"
   ]
  },
  {
   "cell_type": "code",
   "execution_count": 157,
   "metadata": {},
   "outputs": [],
   "source": [
    "def get_distance(lat1, lat2, lon1, lon2):\n",
    "    R = 6.3711e+06\n",
    "    fi1 = lat1 * radians\n",
    "    fi2 = lat2 * radians\n",
    "    delta_fi = (lat2-lat1) * radians\n",
    "    delta_lambda = (lon2 - lon1) * radians\n",
    "    a = math.sin(delta_fi/2) * math.sin(delta_fi/2) + math.cos(fi1) * math.cos(fi2) * math.sin(delta_lambda/2) * math.sin(delta_lambda/2)\n",
    "    c = 2 * math.atan2(math.sqrt(a), math.sqrt(1 - a))\n",
    "    distance = R * c // 1000\n",
    "    return distance\n",
    "distances = get_distance(45.6497622, 46.0733, 21.5954733, 23.5805)"
   ]
  },
  {
   "cell_type": "code",
   "execution_count": 158,
   "metadata": {},
   "outputs": [],
   "source": [
    "SHIPPING_PRICES = {'Ground': 1, 'Priority': 1.6,'Overnight': 2.3,}"
   ]
  },
  {
   "cell_type": "code",
   "execution_count": 159,
   "metadata": {},
   "outputs": [],
   "source": [
    "def format_price(price):\n",
    "    return \"${0:.2f}\".format(price)"
   ]
  },
  {
   "cell_type": "code",
   "execution_count": 160,
   "metadata": {},
   "outputs": [
    {
     "name": "stdout",
     "output_type": "stream",
     "text": [
      "$256.00\n"
     ]
    }
   ],
   "source": [
    "def calculate_shipping_cost(from_cords, to_cords, shipping_type):\n",
    "    from_lat, from_log = from_cords\n",
    "    to_lat, to_log = to_cords \n",
    "    distance = get_distance(*from_cords, *to_cords)\n",
    "    shipping_rate = SHIPPING_PRICES[shipping_type]\n",
    "    price = distance * shipping_rate\n",
    "    return format_price(price)\n",
    "print(calculate_shipping_cost([45.6497622, 46.0733], [21.5954733, 23.5805], \"Priority\"))    "
   ]
  },
  {
   "cell_type": "code",
   "execution_count": 183,
   "metadata": {},
   "outputs": [
    {
     "name": "stdout",
     "output_type": "stream",
     "text": [
      "80\n"
     ]
    }
   ],
   "source": [
    "def calculate_speed(driver, index):\n",
    "    for name, item in drivers.items():\n",
    "        if name in driver:\n",
    "            return item[index]\n",
    "print(calculate_speed('Petru', 0))"
   ]
  },
  {
   "cell_type": "code",
   "execution_count": 188,
   "metadata": {},
   "outputs": [
    {
     "name": "stdout",
     "output_type": "stream",
     "text": [
      "Trip time ratio 2.0 and driver paid per trip 60.0\n"
     ]
    }
   ],
   "source": [
    "def calculate_driver_cost(driver, distance, drivers_list, index0, index1):\n",
    "    cheapest_driver = None\n",
    "    cheapest_driver_price = None\n",
    "    for driver in drivers_list:\n",
    "        speed = calculate_speed(driver, index0)\n",
    "        salary = calculate_speed(driver, index1)\n",
    "        driver_time = distance / speed\n",
    "        price_per_delivery = salary * driver_time\n",
    "        return \"Trip time ratio {} and driver paid per trip {}\".format(driver_time, price_per_delivery)\n",
    "print(calculate_driver_cost('Petru', distances, drivers, 0, 1))"
   ]
  },
  {
   "cell_type": "code",
   "execution_count": null,
   "metadata": {},
   "outputs": [],
   "source": []
  }
 ],
 "metadata": {
  "kernelspec": {
   "display_name": "Python 3",
   "language": "python",
   "name": "python3"
  },
  "language_info": {
   "codemirror_mode": {
    "name": "ipython",
    "version": 3
   },
   "file_extension": ".py",
   "mimetype": "text/x-python",
   "name": "python",
   "nbconvert_exporter": "python",
   "pygments_lexer": "ipython3",
   "version": "3.7.4"
  }
 },
 "nbformat": 4,
 "nbformat_minor": 2
}
