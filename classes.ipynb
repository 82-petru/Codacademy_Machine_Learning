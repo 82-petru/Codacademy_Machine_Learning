{
 "cells": [
  {
   "cell_type": "code",
   "execution_count": 40,
   "metadata": {},
   "outputs": [],
   "source": [
    "from datetime import time"
   ]
  },
  {
   "cell_type": "code",
   "execution_count": 41,
   "metadata": {},
   "outputs": [
    {
     "name": "stdout",
     "output_type": "stream",
     "text": [
      " love ya\n",
      "Merry Christmass\n"
     ]
    }
   ],
   "source": [
    "class Tweet:\n",
    "    title = \" love ya\"\n",
    "a = Tweet()#it says create a new object within class Tweet\n",
    "print(a.title)\n",
    "b = Tweet()\n",
    "b.mesage = \"Merry Christmass\"#set the atributes for object b\n",
    "print(b.mesage)"
   ]
  },
  {
   "cell_type": "code",
   "execution_count": 42,
   "metadata": {},
   "outputs": [
    {
     "name": "stdout",
     "output_type": "stream",
     "text": [
      "Mushrooms\n",
      "Second instance\n"
     ]
    }
   ],
   "source": [
    "class Tweet:\n",
    "    def __init__(self, mesage):\n",
    "        self.x = mesage\n",
    "a = Tweet(\"Mushrooms\")\n",
    "b = Tweet(\"Second instance\")\n",
    "print(a.x)\n",
    "print(b.x)"
   ]
  },
  {
   "cell_type": "code",
   "execution_count": 43,
   "metadata": {},
   "outputs": [
    {
     "name": "stdout",
     "output_type": "stream",
     "text": [
      "An instance of tweet\n",
      "let's see\n"
     ]
    }
   ],
   "source": [
    "class Tweet:\n",
    "    def __init__(self, mesage):\n",
    "        self.mesage = mesage\n",
    "    def print_tweet(self):\n",
    "        print(self.mesage)\n",
    "a = Tweet(\"An instance of tweet\")\n",
    "b = Tweet(\"let's see\")\n",
    "a.print_tweet()#when you run is going to take part of the code \"print(self.mesage)\" and self will refer to the \"a\" and this part\n",
    "#of the code will look like print a and ofcourse \"An instance of tweet\"\n",
    "Tweet.print_tweet(b)"
   ]
  },
  {
   "cell_type": "code",
   "execution_count": 44,
   "metadata": {},
   "outputs": [
    {
     "name": "stdout",
     "output_type": "stream",
     "text": [
      "Dear mum\n",
      "I am in vacation and turn next week\n"
     ]
    }
   ],
   "source": [
    "class Tweet:\n",
    "    tittle = \"Dear mum\"#class variable\n",
    "    second_line = \"I am in vacation and turn next week\"#class variable\n",
    "a = Tweet()\n",
    "print(a.tittle)\n",
    "print(a.second_line)"
   ]
  },
  {
   "cell_type": "code",
   "execution_count": 45,
   "metadata": {},
   "outputs": [
    {
     "name": "stdout",
     "output_type": "stream",
     "text": [
      "Dear mum\n",
      "Dear dad\n"
     ]
    }
   ],
   "source": [
    "class Tweet:\n",
    "    def __init__(self, mesage1, mesage2):\n",
    "        self.mesage1 = mesage1\n",
    "        self.mesage2 = mesage2\n",
    "a = Tweet(\"Dear mum\", \"Dear dad\")\n",
    "print(a.mesage1)\n",
    "print(a.mesage2)\n",
    "        "
   ]
  },
  {
   "cell_type": "code",
   "execution_count": 46,
   "metadata": {},
   "outputs": [
    {
     "name": "stdout",
     "output_type": "stream",
     "text": [
      "Dear dad\n"
     ]
    }
   ],
   "source": [
    "class Tweet:\n",
    "    def __init__(self, mesage1, mesage2):\n",
    "        self.mesage1 = mesage1\n",
    "        self.mesage2 = mesage2\n",
    "    def first_mesage(self):\n",
    "        print(self.mesage2)\n",
    "a = Tweet(\"Dear mum\", \"Dear dad\")\n",
    "a.first_mesage()"
   ]
  },
  {
   "cell_type": "code",
   "execution_count": 47,
   "metadata": {},
   "outputs": [
    {
     "name": "stdout",
     "output_type": "stream",
     "text": [
      "I want to buy a Labrador to my syster\n",
      "And one Ciobanesc for my brother\n"
     ]
    }
   ],
   "source": [
    "class Dog:\n",
    "    breed = \"Labrador\"\n",
    "    breed1 = \"Ciobanesc\"\n",
    "    def breed_dogs(self):\n",
    "        print(\"I want to buy a {} to my syster\".format(self.breed))\n",
    "        print(\"And one {} for my brother\".format(self.breed1))\n",
    "offer = Dog()\n",
    "offer.breed_dogs()"
   ]
  },
  {
   "cell_type": "code",
   "execution_count": 48,
   "metadata": {},
   "outputs": [
    {
     "name": "stdout",
     "output_type": "stream",
     "text": [
      "Hello, one example with return\n"
     ]
    }
   ],
   "source": [
    "class ClassReturn:\n",
    "    def use_return(self):\n",
    "        return \"Hello, one example with return\"\n",
    "a = ClassReturn()\n",
    "print(a.use_return())\n",
    "        "
   ]
  },
  {
   "cell_type": "code",
   "execution_count": 49,
   "metadata": {},
   "outputs": [
    {
     "name": "stdout",
     "output_type": "stream",
     "text": [
      "8.045\n"
     ]
    }
   ],
   "source": [
    "class CalculateDistance:\n",
    "    miles_in_km = 1.609\n",
    "    def calculate_distance(self, miles):\n",
    "        return self.miles_in_km * miles \n",
    "call_object = CalculateDistance()\n",
    "calculus = call_object.calculate_distance(5)\n",
    "print(calculus)"
   ]
  },
  {
   "cell_type": "code",
   "execution_count": 50,
   "metadata": {},
   "outputs": [
    {
     "name": "stdout",
     "output_type": "stream",
     "text": [
      "37.007\n"
     ]
    }
   ],
   "source": [
    "class CalculateDistance:\n",
    "    def calculate_distance(self, mile, miles):\n",
    "        return miles * mile\n",
    "call_object = CalculateDistance()\n",
    "calculus = call_object.calculate_distance(1.609, 23)\n",
    "print(calculus)"
   ]
  },
  {
   "cell_type": "code",
   "execution_count": 51,
   "metadata": {},
   "outputs": [
    {
     "name": "stdout",
     "output_type": "stream",
     "text": [
      "21.20099137030069\n"
     ]
    }
   ],
   "source": [
    "class CalculateBMI:\n",
    "    def calculate_bmi(self, weight, height):\n",
    "        return weight/(height**2)\n",
    "object_instance = CalculateBMI()\n",
    "print(object_instance.calculate_bmi(71, 1.83))\n"
   ]
  },
  {
   "cell_type": "code",
   "execution_count": 52,
   "metadata": {},
   "outputs": [
    {
     "name": "stdout",
     "output_type": "stream",
     "text": [
      "New dimater size is: 36\n"
     ]
    }
   ],
   "source": [
    "class Circle:\n",
    "    pi = 3.14\n",
    "    def __init__(self, diameter):\n",
    "        print(\"New dimater size is: {}\".format(diameter))\n",
    "circle = Circle(36)\n"
   ]
  },
  {
   "cell_type": "code",
   "execution_count": 53,
   "metadata": {},
   "outputs": [
    {
     "data": {
      "text/plain": [
       "'Buddy'"
      ]
     },
     "execution_count": 53,
     "metadata": {},
     "output_type": "execute_result"
    }
   ],
   "source": [
    "class Dog:#class name\n",
    "    kind = \"canine\"#class variable\n",
    "    def __init__(self, name): #construct initilize function\n",
    "        self.name = name #instance variable\n",
    "d = Dog(\"Fido\")#object instance and \"Fido\" represent the attribute of the object \n",
    "e = Dog(\"Buddy\")#object instance\n",
    "\n",
    "d.kind#shared by all dogs \n",
    "e.kind#shared by all dogs\n",
    "\n",
    "d.name#unique to one dog\n",
    "e.name#unique to one dog "
   ]
  },
  {
   "cell_type": "code",
   "execution_count": 54,
   "metadata": {},
   "outputs": [
    {
     "name": "stdout",
     "output_type": "stream",
     "text": [
      "https://www.codecademy.com\n",
      "https://www.wikipedia.com\n"
     ]
    },
    {
     "data": {
      "text/plain": [
       "'https://www.wikipedia.com'"
      ]
     },
     "execution_count": 54,
     "metadata": {},
     "output_type": "execute_result"
    }
   ],
   "source": [
    "class SearchEngine:\n",
    "    address_link = \"https://\" \n",
    "    def __init__(self, url):\n",
    "        self.url = url\n",
    "    \n",
    "    def secure(self):\n",
    "        return \"{first}{second}\".format(first = self.address_link, second = self.url)\n",
    "    \n",
    "codeacademy = SearchEngine(\"www.codecademy.com\")\n",
    "wikipedia = SearchEngine(\"www.wikipedia.com\")\n",
    "\n",
    "print(codeacademy.secure())\n",
    "print(wikipedia.secure())\n",
    "SearchEngine.secure(wikipedia)"
   ]
  },
  {
   "cell_type": "code",
   "execution_count": 55,
   "metadata": {},
   "outputs": [
    {
     "name": "stdout",
     "output_type": "stream",
     "text": [
      "37.68\n",
      "113.04\n",
      "35.9844\n"
     ]
    }
   ],
   "source": [
    "class Circle:\n",
    "    pi = 3.14 \n",
    "    def __init__(self, diameter):\n",
    "        self.radius = diameter/2 # another way to define instance variable\n",
    "        \n",
    "    def circumferinces(self):\n",
    "        return 2 * self.pi * self.radius\n",
    "        \n",
    "circle1 = Circle(12)\n",
    "circle2 = Circle(36)\n",
    "circle3 = Circle(11.460)\n",
    "print(circle1.circumferinces())\n",
    "print(circle2.circumferinces())\n",
    "print(circle3.circumferinces())"
   ]
  },
  {
   "cell_type": "code",
   "execution_count": 56,
   "metadata": {},
   "outputs": [
    {
     "name": "stdout",
     "output_type": "stream",
     "text": [
      "1950.6369426751592\n"
     ]
    }
   ],
   "source": [
    "class Stress:\n",
    "    aceleration = 9.8\n",
    "    pi = 3.14\n",
    "    def __init__(self, mass, diameter):\n",
    "        self.mass = mass\n",
    "        self.radius = diameter/2\n",
    "    def stres_calculus(self):\n",
    "        area = 2 *self.pi * self.radius\n",
    "        return (self.mass * self.aceleration)/ area\n",
    "stress = Stress(50, 0.08)\n",
    "print(stress.stres_calculus())\n",
    "\n",
    "    "
   ]
  },
  {
   "cell_type": "code",
   "execution_count": 57,
   "metadata": {},
   "outputs": [
    {
     "data": {
      "text/plain": [
       "'The elongation for mass equal to 500 kg, length 3 m and diameter 0.055 m is: 294.78338685055536 mm'"
      ]
     },
     "execution_count": 57,
     "metadata": {},
     "output_type": "execute_result"
    }
   ],
   "source": [
    "class ElongationSteel:\n",
    "    E = 21e6 \n",
    "    pi = 3.14 \n",
    "    g = 9.8 \n",
    "    def __init__(self, mass, diameter, length):\n",
    "        self.mass = mass\n",
    "        self.diameter = diameter\n",
    "        self.length = length\n",
    "    def elongation_calc(self):\n",
    "        area = (self.pi * self.diameter**2)/4\n",
    "        force = self.mass * self.g \n",
    "        elongation = (1000 * (force * self.length)) / (area * self.E)\n",
    "        return \"The elongation for mass equal to {mass} kg, length {length} m and diameter {diameter} m is: {elongation} mm\".format(mass = self.mass, length = self.length, diameter = self.diameter, elongation = elongation) \n",
    "elongation = ElongationSteel(500, 0.055, 3)\n",
    "elongation.elongation_calc()\n",
    "    \n",
    "    \n",
    "    "
   ]
  },
  {
   "cell_type": "code",
   "execution_count": 58,
   "metadata": {
    "scrolled": true
   },
   "outputs": [
    {
     "name": "stdout",
     "output_type": "stream",
     "text": [
      "{'June': True, 'March': True}\n"
     ]
    }
   ],
   "source": [
    "dict = {}\n",
    "date = [\"June\", \"March\"]\n",
    "for k in date:\n",
    "    dict[k] = True\n",
    "print(dict)\n"
   ]
  },
  {
   "cell_type": "code",
   "execution_count": 59,
   "metadata": {},
   "outputs": [],
   "source": [
    "class Robot:\n",
    "    def __init__(self, n, c):\n",
    "        self.name = n\n",
    "        self.color = c\n",
    "    def introduce_self(self):\n",
    "        print(\"My name is {}\". format(self.name))\n",
    "        "
   ]
  },
  {
   "cell_type": "code",
   "execution_count": 60,
   "metadata": {},
   "outputs": [],
   "source": [
    "r1 = Robot(\"Tom\", \"white\")\n",
    "r2 = Robot(\"Jenny\", \"black\")"
   ]
  },
  {
   "cell_type": "code",
   "execution_count": 61,
   "metadata": {},
   "outputs": [],
   "source": [
    "class Person:\n",
    "    def __init__(self, n, p, s):\n",
    "        self.name = n\n",
    "        self.personality = p\n",
    "        self.stands = s\n",
    "        \n",
    "    def sit_down(self):\n",
    "        print(self.stands)\n",
    "    \n",
    "    def stand_up(self):\n",
    "        print(self.stands)"
   ]
  },
  {
   "cell_type": "code",
   "execution_count": 62,
   "metadata": {},
   "outputs": [],
   "source": [
    "p1 = Person(\"Jane\", \"impulsive\", True)\n",
    "p2 = Person(\"Jude\", \"calm\", False)"
   ]
  },
  {
   "cell_type": "code",
   "execution_count": 63,
   "metadata": {},
   "outputs": [],
   "source": [
    "class Employee:\n",
    "    raise_amt = 1.04\n",
    "    \n",
    "    def __init__(self, first, last, pay):\n",
    "        self.first = first\n",
    "        self.last = last\n",
    "        self.pay = pay \n",
    "        self.email = first + '.' + last + '@email.com' \n",
    "    \n",
    "    def fullname(self):\n",
    "        return \"{} {}\".format(self.first, self.last)\n",
    "    \n",
    "    def apply_raise(self):\n",
    "        self.pay = int(self.pay * self.raise_amt)# just call \"object.pay\" calling the arguments from parent class\n",
    "        return self.pay\n"
   ]
  },
  {
   "cell_type": "code",
   "execution_count": 64,
   "metadata": {},
   "outputs": [],
   "source": [
    "class Developer(Employee):\n",
    "    raise_amt = 1.10\n",
    "    \n",
    "    def __init__(self, first, last, pay, prog_lang):\n",
    "        super().__init__(first, last, pay)#method to pass the first last and pay argument from parent class Employee\n",
    "        self.prog_lang = prog_lang"
   ]
  },
  {
   "cell_type": "code",
   "execution_count": 65,
   "metadata": {},
   "outputs": [],
   "source": [
    "class Manager(Employee):\n",
    "    def __init__(self, first, last, pay, employees = None):\n",
    "        super().__init__(first, last, pay)#method to pass the first last and pay argument from parent class Employee\n",
    "        if employees is None:\n",
    "            self.employees = []\n",
    "        else:\n",
    "            self.employees = employees\n",
    "            \n",
    "    def add_emp(self, emp):#add employees\n",
    "        if emp not in self.employees:\n",
    "            self.employees.append(emp)\n",
    "            \n",
    "    def remove_emp(self, emp):#remove employees\n",
    "        if emp in self.employees:\n",
    "            self.employees.remove(emp)\n",
    "            \n",
    "    def print_emps(self):\n",
    "        for emp in self.employees:\n",
    "            print('-->', emp.fullname())"
   ]
  },
  {
   "cell_type": "code",
   "execution_count": 66,
   "metadata": {},
   "outputs": [
    {
     "name": "stdout",
     "output_type": "stream",
     "text": [
      "Corey Schaffer\n",
      "52000\n"
     ]
    }
   ],
   "source": [
    "day_1 = Employee('Corey', 'Schaffer', 50000)#instantiate the Developer = name of this process\n",
    "day_2 = Employee('Test', 'Employee', 60000)\n",
    "print(day_1.fullname())\n",
    "print(day_1.apply_raise())"
   ]
  },
  {
   "cell_type": "code",
   "execution_count": 67,
   "metadata": {
    "scrolled": true
   },
   "outputs": [
    {
     "name": "stdout",
     "output_type": "stream",
     "text": [
      "Buddy Basesecu\n",
      "Buddy.Basesecu@email.com\n",
      "50000\n",
      "55000\n",
      "Python\n"
     ]
    }
   ],
   "source": [
    "dev_1 = Developer('Buddy', 'Basesecu', 50000, 'Python')\n",
    "dev_2 = Developer('Test', 'Employee', 60000, 'Java')\n",
    "print(dev_1.fullname())\n",
    "print(dev_1.email)\n",
    "print(dev_1.pay)\n",
    "print(dev_1.apply_raise())\n",
    "print(dev_1.prog_lang)"
   ]
  },
  {
   "cell_type": "code",
   "execution_count": 68,
   "metadata": {},
   "outputs": [
    {
     "name": "stdout",
     "output_type": "stream",
     "text": [
      "Curtean.Razvan@email.com\n",
      "--> Test Employee\n",
      "--> Corey Schaffer\n",
      "--> Test Employee\n"
     ]
    }
   ],
   "source": [
    "man_1 = Manager('Curtean', 'Razvan', 90000, [])\n",
    "print(man_1.email)\n",
    "man_1.add_emp(dev_2)\n",
    "man_1.add_emp(day_1)\n",
    "man_1.add_emp(day_2)\n",
    "man_1.remove_emp(dev_1)\n",
    "man_1.print_emps()"
   ]
  },
  {
   "cell_type": "code",
   "execution_count": 69,
   "metadata": {},
   "outputs": [
    {
     "name": "stdout",
     "output_type": "stream",
     "text": [
      "False\n"
     ]
    }
   ],
   "source": [
    "print(isinstance(dev_1, Manager))# method to check if dev_1 is an  instance of particular class"
   ]
  },
  {
   "cell_type": "code",
   "execution_count": 70,
   "metadata": {},
   "outputs": [
    {
     "name": "stdout",
     "output_type": "stream",
     "text": [
      "True\n"
     ]
    }
   ],
   "source": [
    "print(issubclass(Manager, Employee))# tell us if a class is a subclass to another, returns True if first arg is subclass and \n",
    "# second is class itself returns False if first arg is not a subclass of the second\n",
    "# Why is it beneficial for exceptions to inherit from one another?"
   ]
  },
  {
   "cell_type": "code",
   "execution_count": 71,
   "metadata": {},
   "outputs": [],
   "source": [
    "class Student:\n",
    "    def __init__(self, name, year):\n",
    "        self.name = name\n",
    "        self.year = year\n",
    "        self.grades = []\n",
    "        #self.attendance = attendance\n",
    "                 \n",
    "    def add_grade(self, grade):# use class Grade score students \n",
    "        if type(grade) == Grade:\n",
    "            self.grades.append(grade.score)\n",
    "            \n",
    "    def get_average(self):\n",
    "        avg = 0 \n",
    "        for i in self.grades:\n",
    "            avg += i\n",
    "            average = avg/len(self.grades)\n",
    "        return average"
   ]
  },
  {
   "cell_type": "code",
   "execution_count": 72,
   "metadata": {},
   "outputs": [],
   "source": [
    "class Grade:\n",
    "    minimum_passing = 65\n",
    "    def __init__(self, score):\n",
    "        self.score = score\n",
    "        \n",
    "    def is_passing(self):\n",
    "        if self.score <= self.minimum_passing:\n",
    "            print(\"you have to try again\")\n",
    "        else:\n",
    "            print(\"Congraluation\")"
   ]
  },
  {
   "cell_type": "code",
   "execution_count": 73,
   "metadata": {},
   "outputs": [],
   "source": [
    "roger = Student(\"Roger van der Weyden\", 10)\n",
    "sandro = Student(\"Sandro Botticelli\", 12)\n",
    "pieter = Student(\"Pieter Bruegel the Elder\", 8)"
   ]
  },
  {
   "cell_type": "code",
   "execution_count": 74,
   "metadata": {},
   "outputs": [
    {
     "name": "stdout",
     "output_type": "stream",
     "text": [
      "[100, 70, 95]\n",
      "88.33333333333333\n"
     ]
    }
   ],
   "source": [
    "grade1 = Grade(100)\n",
    "grade2 = Grade(70)\n",
    "grade3 = Grade(95)\n",
    "pieter.add_grade(grade1)\n",
    "pieter.add_grade(grade2)\n",
    "pieter.add_grade(grade3)\n",
    "print(pieter.grades)\n",
    "print(pieter.get_average())"
   ]
  },
  {
   "cell_type": "code",
   "execution_count": 75,
   "metadata": {},
   "outputs": [],
   "source": [
    "class Connectors:\n",
    "    def __init__(self, pitch, current, impedence, size):\n",
    "        self.pitch = pitch\n",
    "        self.current = current\n",
    "        self.impedence = impedence\n",
    "        self.size = size\n",
    "\n",
    "    def cnct_tittle(self):\n",
    "        return \"{}_{}_{}_{}\".format(self.pitch, self.current, self.impedence, self.size)\n",
    "        "
   ]
  },
  {
   "cell_type": "code",
   "execution_count": 76,
   "metadata": {},
   "outputs": [],
   "source": [
    "class Plug(Connectors):\n",
    "    def __init__(self, pitch, current, impedence, size, gender):\n",
    "        super().__init__ (pitch, current, impedence, size)\n",
    "        self.gender = gender "
   ]
  },
  {
   "cell_type": "code",
   "execution_count": 77,
   "metadata": {},
   "outputs": [],
   "source": [
    "class Zif(Connectors):\n",
    "        def __init__(self, pitch, current, impedence, size, temperature):\n",
    "            super().__init__ (pitch, current, impedence, size)\n",
    "            self.temperature = temperature"
   ]
  },
  {
   "cell_type": "code",
   "execution_count": 78,
   "metadata": {},
   "outputs": [],
   "source": [
    "class Verifypitch(Connectors):\n",
    "    def __init__(self, pitch, current, impedence, size, lista = None):\n",
    "            super().__init__ (pitch, current, impedence, size)\n",
    "            if lista is None:\n",
    "                self.lista = []\n",
    "            else:\n",
    "                self.lista = lista\n",
    "    \n",
    "    def add_connector(self, cnct):\n",
    "        if cnct not in self.lista:\n",
    "            self.lista.append(cnct)\n",
    "    \n",
    "    def remove_connector(self, cnct):\n",
    "        if cnct in self.lista:\n",
    "            self.lista.remove(cnct)\n",
    "                \n",
    "    def print_cnct(self):\n",
    "        for cnct in self.lista:\n",
    "            print('->', cnct.cnct_tittle())"
   ]
  },
  {
   "cell_type": "code",
   "execution_count": 79,
   "metadata": {},
   "outputs": [
    {
     "name": "stdout",
     "output_type": "stream",
     "text": [
      "A3C01568300_Daimler_06pole_TE\n",
      "A3C01688400_GM_56pole_AVX\n",
      "A3C01764800_Fiat_18pole_Molex\n"
     ]
    }
   ],
   "source": [
    "cnct1 = Plug(\"A3C01568300\", \"Daimler\", \"06pole\", \"TE\", \"female\")\n",
    "cnct2 = Zif(\"A3C01568400\", \"BMW\", \"16pole\", \"HB\", 85)\n",
    "cnct3 = Zif(\"A3C01688400\", \"GM\", \"56pole\", \"AVX\", 105)\n",
    "cnct4 = Plug(\"A3C01764800\", \"Fiat\", \"18pole\", \"Molex\", \"male\")\n",
    "print(cnct1.cnct_tittle())\n",
    "print(cnct3.cnct_tittle())\n",
    "print(cnct4.cnct_tittle())"
   ]
  },
  {
   "cell_type": "code",
   "execution_count": 80,
   "metadata": {
    "scrolled": true
   },
   "outputs": [
    {
     "name": "stdout",
     "output_type": "stream",
     "text": [
      "105\n",
      "male\n"
     ]
    }
   ],
   "source": [
    "print(cnct3.temperature)\n",
    "print(cnct4.gender)"
   ]
  },
  {
   "cell_type": "code",
   "execution_count": 81,
   "metadata": {
    "scrolled": false
   },
   "outputs": [
    {
     "name": "stdout",
     "output_type": "stream",
     "text": [
      "-> A3C01568300_Daimler_06pole_TE\n",
      "-> A3C01568400_BMW_16pole_HB\n",
      "-> A3C01688400_GM_56pole_AVX\n",
      "-> A3C01764800_Fiat_18pole_Molex\n"
     ]
    }
   ],
   "source": [
    "veriff = Verifypitch(\"A3C01468320\", \"Daimler\", \"06pole\", \"TE\",[])\n",
    "veriff.add_connector(cnct1)\n",
    "veriff.add_connector(cnct2)\n",
    "veriff.add_connector(cnct3)\n",
    "veriff.add_connector(cnct4)\n",
    "veriff.print_cnct()"
   ]
  },
  {
   "cell_type": "code",
   "execution_count": 82,
   "metadata": {},
   "outputs": [
    {
     "name": "stdout",
     "output_type": "stream",
     "text": [
      "True\n",
      "True\n"
     ]
    }
   ],
   "source": [
    "class User:\n",
    "    def __init__(self, username, permision):# assume permision is a dict \n",
    "        self.username = username\n",
    "        self.permision = permision \n",
    "        \n",
    "    def has_permision(self, key):# user class has a method to verify if given key is in its permision dictionary\n",
    "        if self.permision.get(key):\n",
    "            return True\n",
    "        else:\n",
    "            return False\n",
    "class Admin(User):#define an admin class subclass of user it has all the methods and attributes fuctionalty that user has\n",
    "    def has_permision(self, key):\n",
    "        return True \n",
    "object1 = User(\"Petru\", {\"Bob\" : 4}) \n",
    "object2 = Admin(\"Paul\", [])\n",
    "print(object1.has_permision(\"Bob\"))\n",
    "print(object2.has_permision(\"Jerry\"))      "
   ]
  },
  {
   "cell_type": "code",
   "execution_count": 83,
   "metadata": {},
   "outputs": [],
   "source": [
    "class Message:\n",
    "      def __init__(self, sender, recipient, text):\n",
    "          self.sender = sender\n",
    "          self.recipient = recipient\n",
    "          self.text = text\n",
    "\n",
    "class User:\n",
    "      def __init__(self, username):\n",
    "           self.username = username\n",
    "    \n",
    "      def edit_message(self, message, new_text):\n",
    "        if message.sender == self.username:\n",
    "            message.text = new_text\n",
    "\n",
    "class Admin(User):\n",
    "      def edit_message(self, message, new_text):\n",
    "            pass"
   ]
  },
  {
   "cell_type": "code",
   "execution_count": 84,
   "metadata": {},
   "outputs": [
    {
     "name": "stdout",
     "output_type": "stream",
     "text": [
      "I don't like Spam!\n",
      "I love Spam!\n"
     ]
    }
   ],
   "source": [
    "monty = User(\"Monty\")#\n",
    "eric = User(\"Eric\")\n",
    "# Create the Message instance\n",
    "montyMessage = Message(\"Monty\", \"Eric\", \"I don't like Spam!\")\n",
    "print(montyMessage.text)\n",
    "# Edit the Message instance\n",
    "monty.edit_message(montyMessage, \"I love Spam!\")\n",
    "print(montyMessage.text)"
   ]
  },
  {
   "cell_type": "code",
   "execution_count": 89,
   "metadata": {},
   "outputs": [
    {
     "name": "stdout",
     "output_type": "stream",
     "text": [
      "12:34:45\n"
     ]
    }
   ],
   "source": [
    "ora = time(hour = 12, minute = 34, second = 45)\n",
    "print(ora)"
   ]
  },
  {
   "cell_type": "code",
   "execution_count": 97,
   "metadata": {},
   "outputs": [],
   "source": [
    "class Person:\n",
    "    name = \"\"\n",
    "    age = 0\n",
    "\n",
    "    def __init__(self, personName, personAge):\n",
    "        self.name = personName\n",
    "        self.age = personAge\n",
    "\n",
    "    def __repr__(self):\n",
    "        return '{name:'+self.name+', age:'+str(self.age)+ '}'\n",
    "\n",
    "    def __str__(self):\n",
    "        return 'Person(name='+self.name+', age='+str(self.age)+ ')'"
   ]
  },
  {
   "cell_type": "code",
   "execution_count": 98,
   "metadata": {},
   "outputs": [
    {
     "name": "stdout",
     "output_type": "stream",
     "text": [
      "Person(name=Pankaj, age=34)\n",
      "Person(name=Pankaj, age=34)\n",
      "Person(name=Pankaj, age=34)\n",
      "{name:Pankaj, age:34}\n",
      "<class 'str'>\n",
      "{name:Pankaj, age:34}\n"
     ]
    }
   ],
   "source": [
    "p = Person('Pankaj', 34)\n",
    "\n",
    "# __str__() example\n",
    "print(p)\n",
    "print(p.__str__())\n",
    "\n",
    "s = str(p)\n",
    "print(s)\n",
    "\n",
    "# __repr__() example\n",
    "print(p.__repr__())\n",
    "print(type(p.__repr__()))\n",
    "print(repr(p))"
   ]
  },
  {
   "cell_type": "code",
   "execution_count": null,
   "metadata": {},
   "outputs": [],
   "source": []
  }
 ],
 "metadata": {
  "kernelspec": {
   "display_name": "Python 3",
   "language": "python",
   "name": "python3"
  },
  "language_info": {
   "codemirror_mode": {
    "name": "ipython",
    "version": 3
   },
   "file_extension": ".py",
   "mimetype": "text/x-python",
   "name": "python",
   "nbconvert_exporter": "python",
   "pygments_lexer": "ipython3",
   "version": "3.7.4"
  }
 },
 "nbformat": 4,
 "nbformat_minor": 2
}
